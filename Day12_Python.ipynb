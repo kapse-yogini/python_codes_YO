{
 "cells": [
  {
   "cell_type": "code",
   "execution_count": null,
   "id": "8b8bf5d3",
   "metadata": {},
   "outputs": [],
   "source": [
    "Mock interview questions....."
   ]
  },
  {
   "cell_type": "code",
   "execution_count": null,
   "id": "6f7b6883",
   "metadata": {},
   "outputs": [],
   "source": []
  },
  {
   "cell_type": "code",
   "execution_count": null,
   "id": "025e6a8a",
   "metadata": {},
   "outputs": [],
   "source": [
    "1. what is a string datatype...?"
   ]
  },
  {
   "cell_type": "code",
   "execution_count": null,
   "id": "3b6cbe6e",
   "metadata": {},
   "outputs": [],
   "source": [
    "2. what is a the diff btw list and tuple...? "
   ]
  },
  {
   "cell_type": "code",
   "execution_count": null,
   "id": "61d9bf01",
   "metadata": {},
   "outputs": [],
   "source": [
    "3. exp what is a dict datatype...?"
   ]
  },
  {
   "cell_type": "code",
   "execution_count": null,
   "id": "9a6202d0",
   "metadata": {},
   "outputs": [],
   "source": []
  },
  {
   "cell_type": "code",
   "execution_count": 1,
   "id": "c8b72b88",
   "metadata": {},
   "outputs": [],
   "source": [
    "numbers = [1,2,3,4,5]"
   ]
  },
  {
   "cell_type": "code",
   "execution_count": null,
   "id": "ecfa66f3",
   "metadata": {},
   "outputs": [],
   "source": []
  },
  {
   "cell_type": "code",
   "execution_count": 2,
   "id": "95f54177",
   "metadata": {},
   "outputs": [
    {
     "name": "stdout",
     "output_type": "stream",
     "text": [
      "1\n",
      "2\n",
      "3\n",
      "4\n",
      "5\n"
     ]
    }
   ],
   "source": [
    "for x in numbers:\n",
    "    print(x)"
   ]
  },
  {
   "cell_type": "code",
   "execution_count": null,
   "id": "6e21b267",
   "metadata": {},
   "outputs": [],
   "source": []
  },
  {
   "cell_type": "code",
   "execution_count": null,
   "id": "f3f6b349",
   "metadata": {},
   "outputs": [],
   "source": []
  },
  {
   "cell_type": "code",
   "execution_count": null,
   "id": "b6c44a4f",
   "metadata": {},
   "outputs": [],
   "source": [
    "Continuation with python classes :"
   ]
  },
  {
   "cell_type": "code",
   "execution_count": null,
   "id": "1dbd45a3",
   "metadata": {},
   "outputs": [],
   "source": [
    "class\n",
    "\n",
    "method\n",
    "\n",
    "attribute\n",
    "\n",
    "self \n",
    "\n",
    "object."
   ]
  },
  {
   "cell_type": "code",
   "execution_count": null,
   "id": "80bf3496",
   "metadata": {},
   "outputs": [],
   "source": []
  },
  {
   "cell_type": "code",
   "execution_count": null,
   "id": "782bd028",
   "metadata": {},
   "outputs": [],
   "source": [
    "introduction to constructor : **"
   ]
  },
  {
   "cell_type": "code",
   "execution_count": null,
   "id": "215deb95",
   "metadata": {},
   "outputs": [],
   "source": [
    "It is called as a special method or a magical method.\n",
    "\n",
    "It is used to initialize the attributes.\n",
    "\n",
    "\n",
    "how to define the construvtor.\n",
    "\n",
    "def__init__()"
   ]
  },
  {
   "cell_type": "code",
   "execution_count": null,
   "id": "41fae996",
   "metadata": {},
   "outputs": [],
   "source": []
  },
  {
   "cell_type": "code",
   "execution_count": null,
   "id": "4c22b633",
   "metadata": {},
   "outputs": [],
   "source": [
    "# creat a Dog class with the below method:\n",
    "\n",
    "# accept the input name of the \n",
    "\n",
    "# 1. jump\n",
    "\n",
    "# 2. rollover\n",
    "\n",
    "# 3. eat \n",
    "\n",
    "# 4. sleep"
   ]
  },
  {
   "cell_type": "code",
   "execution_count": null,
   "id": "830530e9",
   "metadata": {},
   "outputs": [],
   "source": []
  },
  {
   "cell_type": "code",
   "execution_count": 1,
   "id": "a731b3b2",
   "metadata": {},
   "outputs": [],
   "source": [
    "class Dog:\n",
    "    \"\"\"creating a dog class\"\"\"\n",
    "    \n",
    "    def __init__(self,name,age):     # it contains all the important parameters.\n",
    "        self.name = name\n",
    "        self.age = age \n",
    "        \n",
    "    def jump(self):\n",
    "        print(f\"{self.name} is now jumping on the command\")\n",
    "        \n",
    "    def rollover(self):\n",
    "        print(f\"{self.name} is now rolling over on the command\")\n",
    "        \n",
    "    def eat(self):\n",
    "        print(f\"{self.name} is now eating\")\n",
    "        \n",
    "    def sleep(self):\n",
    "        print(f\"{self.naame} is now sleeping\")\n",
    "        \n",
    "    def details(self):\n",
    "        print(f\"My dog name is {self.name}\")\n",
    "        print(f\"{self.name} is of {self.age} years old\")"
   ]
  },
  {
   "cell_type": "code",
   "execution_count": null,
   "id": "213b2e1d",
   "metadata": {},
   "outputs": [],
   "source": []
  },
  {
   "cell_type": "code",
   "execution_count": 2,
   "id": "275de96d",
   "metadata": {},
   "outputs": [],
   "source": [
    "test = Dog('rex',2)"
   ]
  },
  {
   "cell_type": "code",
   "execution_count": 3,
   "id": "9a50e81f",
   "metadata": {},
   "outputs": [
    {
     "name": "stdout",
     "output_type": "stream",
     "text": [
      "rex is now jumping on the command\n"
     ]
    }
   ],
   "source": [
    "test.jump()"
   ]
  },
  {
   "cell_type": "code",
   "execution_count": 4,
   "id": "aea9fdfe",
   "metadata": {},
   "outputs": [
    {
     "name": "stdout",
     "output_type": "stream",
     "text": [
      "rex is now rolling over on the command\n"
     ]
    }
   ],
   "source": [
    "test.rollover()"
   ]
  },
  {
   "cell_type": "code",
   "execution_count": 5,
   "id": "8644b687",
   "metadata": {},
   "outputs": [
    {
     "name": "stdout",
     "output_type": "stream",
     "text": [
      "rex is now eating\n"
     ]
    }
   ],
   "source": [
    "test.eat()"
   ]
  },
  {
   "cell_type": "code",
   "execution_count": 6,
   "id": "423e2807",
   "metadata": {},
   "outputs": [
    {
     "name": "stdout",
     "output_type": "stream",
     "text": [
      "My dog name is rex\n",
      "rex is of 2 years old\n"
     ]
    }
   ],
   "source": [
    "test.details()"
   ]
  },
  {
   "cell_type": "code",
   "execution_count": null,
   "id": "8e02aaa4",
   "metadata": {},
   "outputs": [],
   "source": []
  },
  {
   "cell_type": "code",
   "execution_count": null,
   "id": "11a23e73",
   "metadata": {},
   "outputs": [],
   "source": []
  }
 ],
 "metadata": {
  "kernelspec": {
   "display_name": "Python 3",
   "language": "python",
   "name": "python3"
  },
  "language_info": {
   "codemirror_mode": {
    "name": "ipython",
    "version": 3
   },
   "file_extension": ".py",
   "mimetype": "text/x-python",
   "name": "python",
   "nbconvert_exporter": "python",
   "pygments_lexer": "ipython3",
   "version": "3.8.8"
  }
 },
 "nbformat": 4,
 "nbformat_minor": 5
}
