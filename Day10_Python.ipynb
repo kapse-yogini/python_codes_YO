{
 "cells": [
  {
   "cell_type": "code",
   "execution_count": null,
   "id": "40e5cf3d",
   "metadata": {},
   "outputs": [],
   "source": [
    "introduction to the functions in Python:"
   ]
  },
  {
   "cell_type": "code",
   "execution_count": null,
   "id": "0e45f644",
   "metadata": {},
   "outputs": [],
   "source": [
    "for thr custom requirement we can write and design our own functions."
   ]
  },
  {
   "cell_type": "code",
   "execution_count": null,
   "id": "734e9f1c",
   "metadata": {},
   "outputs": [],
   "source": [
    "code reuseability:"
   ]
  },
  {
   "cell_type": "code",
   "execution_count": null,
   "id": "9874373c",
   "metadata": {},
   "outputs": [],
   "source": []
  },
  {
   "cell_type": "code",
   "execution_count": null,
   "id": "f3dc504b",
   "metadata": {},
   "outputs": [],
   "source": [
    "understanding zen of python :\n",
    "    \n",
    "Guiding principles of python."
   ]
  },
  {
   "cell_type": "code",
   "execution_count": 1,
   "id": "5ccb699e",
   "metadata": {},
   "outputs": [
    {
     "name": "stdout",
     "output_type": "stream",
     "text": [
      "The Zen of Python, by Tim Peters\n",
      "\n",
      "Beautiful is better than ugly.\n",
      "Explicit is better than implicit.\n",
      "Simple is better than complex.\n",
      "Complex is better than complicated.\n",
      "Flat is better than nested.\n",
      "Sparse is better than dense.\n",
      "Readability counts.\n",
      "Special cases aren't special enough to break the rules.\n",
      "Although practicality beats purity.\n",
      "Errors should never pass silently.\n",
      "Unless explicitly silenced.\n",
      "In the face of ambiguity, refuse the temptation to guess.\n",
      "There should be one-- and preferably only one --obvious way to do it.\n",
      "Although that way may not be obvious at first unless you're Dutch.\n",
      "Now is better than never.\n",
      "Although never is often better than *right* now.\n",
      "If the implementation is hard to explain, it's a bad idea.\n",
      "If the implementation is easy to explain, it may be a good idea.\n",
      "Namespaces are one honking great idea -- let's do more of those!\n"
     ]
    }
   ],
   "source": [
    "import this"
   ]
  },
  {
   "cell_type": "code",
   "execution_count": null,
   "id": "328d3f8f",
   "metadata": {},
   "outputs": [],
   "source": []
  },
  {
   "cell_type": "code",
   "execution_count": null,
   "id": "b6328798",
   "metadata": {},
   "outputs": [],
   "source": [
    "def is the keyword for defining the functions."
   ]
  },
  {
   "cell_type": "code",
   "execution_count": null,
   "id": "bfd32c6c",
   "metadata": {},
   "outputs": [],
   "source": [
    "for giving the function name we have to use small case letters only."
   ]
  },
  {
   "cell_type": "code",
   "execution_count": null,
   "id": "f78ed9d9",
   "metadata": {},
   "outputs": [],
   "source": []
  },
  {
   "cell_type": "code",
   "execution_count": null,
   "id": "c054c825",
   "metadata": {},
   "outputs": [],
   "source": [
    "# req: create a greet function."
   ]
  },
  {
   "cell_type": "code",
   "execution_count": 2,
   "id": "f432a0f1",
   "metadata": {},
   "outputs": [],
   "source": [
    "def greet():                   # defining / declaring the function.\n",
    "    \"\"\"creating a greet function\"\"\"      # doc string ====> commenting inside the function...\n",
    "    print(\"Hello!\")"
   ]
  },
  {
   "cell_type": "code",
   "execution_count": 3,
   "id": "dad8f424",
   "metadata": {},
   "outputs": [
    {
     "name": "stdout",
     "output_type": "stream",
     "text": [
      "Hello!\n"
     ]
    }
   ],
   "source": [
    "greet()     # function call...."
   ]
  },
  {
   "cell_type": "code",
   "execution_count": 4,
   "id": "f31d4506",
   "metadata": {},
   "outputs": [
    {
     "name": "stdout",
     "output_type": "stream",
     "text": [
      "Hello!\n"
     ]
    }
   ],
   "source": [
    "greet()"
   ]
  },
  {
   "cell_type": "code",
   "execution_count": 5,
   "id": "4e29f3d9",
   "metadata": {},
   "outputs": [
    {
     "name": "stdout",
     "output_type": "stream",
     "text": [
      "Hello!\n"
     ]
    }
   ],
   "source": [
    "greet()"
   ]
  },
  {
   "cell_type": "code",
   "execution_count": null,
   "id": "f786ba45",
   "metadata": {},
   "outputs": [],
   "source": []
  },
  {
   "cell_type": "code",
   "execution_count": null,
   "id": "5bcf3338",
   "metadata": {},
   "outputs": [],
   "source": [
    "# req : create a function to greet the user that we are passing to the function."
   ]
  },
  {
   "cell_type": "code",
   "execution_count": 6,
   "id": "47c12c3d",
   "metadata": {},
   "outputs": [],
   "source": [
    "def greetuser(username):\n",
    "    \"\"\"creating the fun to greet the user\"\"\"\n",
    "    print (f\"Hello, {username.title()}\")            # username is the parameter passing during the function declaration.."
   ]
  },
  {
   "cell_type": "code",
   "execution_count": null,
   "id": "da3efb16",
   "metadata": {},
   "outputs": [],
   "source": []
  },
  {
   "cell_type": "code",
   "execution_count": 7,
   "id": "c52c5a08",
   "metadata": {},
   "outputs": [
    {
     "name": "stdout",
     "output_type": "stream",
     "text": [
      "Hello, Geetika\n"
     ]
    }
   ],
   "source": [
    "greetuser('geetika')       # it is call an arguments passing...."
   ]
  },
  {
   "cell_type": "code",
   "execution_count": 8,
   "id": "562bf744",
   "metadata": {},
   "outputs": [
    {
     "name": "stdout",
     "output_type": "stream",
     "text": [
      "Hello, Anoop\n"
     ]
    }
   ],
   "source": [
    "greetuser('anoop')"
   ]
  },
  {
   "cell_type": "code",
   "execution_count": null,
   "id": "ff57f69e",
   "metadata": {},
   "outputs": [],
   "source": []
  },
  {
   "cell_type": "code",
   "execution_count": null,
   "id": "3ed786cd",
   "metadata": {},
   "outputs": [],
   "source": [
    "types of arguments:"
   ]
  },
  {
   "cell_type": "code",
   "execution_count": null,
   "id": "2062508d",
   "metadata": {},
   "outputs": [],
   "source": [
    "# req : create a describe_pet function where in it takes two parameter below:\n",
    "\n",
    "# 1. animaltype 2. petname"
   ]
  },
  {
   "cell_type": "code",
   "execution_count": 9,
   "id": "1d4468a2",
   "metadata": {},
   "outputs": [],
   "source": [
    "def describe_pet(animaltype,petname):\n",
    "    \"\"\"creating a pet function for describing the animals\"\"\"\n",
    "    print(f\"I have a {animaltype}\")\n",
    "    print(f\"my {animaltype}'s name is {petname}\")"
   ]
  },
  {
   "cell_type": "code",
   "execution_count": null,
   "id": "3ec45787",
   "metadata": {},
   "outputs": [],
   "source": []
  },
  {
   "cell_type": "code",
   "execution_count": 10,
   "id": "965edc12",
   "metadata": {},
   "outputs": [
    {
     "name": "stdout",
     "output_type": "stream",
     "text": [
      "I have a dog\n",
      "my dog's name is rex\n"
     ]
    }
   ],
   "source": [
    "describe_pet('dog','rex')"
   ]
  },
  {
   "cell_type": "code",
   "execution_count": 11,
   "id": "a6eab2fa",
   "metadata": {},
   "outputs": [
    {
     "name": "stdout",
     "output_type": "stream",
     "text": [
      "I have a cat\n",
      "my cat's name is fari\n"
     ]
    }
   ],
   "source": [
    "describe_pet('cat','fari')"
   ]
  },
  {
   "cell_type": "code",
   "execution_count": 12,
   "id": "b378d972",
   "metadata": {},
   "outputs": [
    {
     "name": "stdout",
     "output_type": "stream",
     "text": [
      "I have a goldy\n",
      "my goldy's name is fish\n"
     ]
    }
   ],
   "source": [
    "describe_pet('goldy','fish')"
   ]
  },
  {
   "cell_type": "code",
   "execution_count": null,
   "id": "3ad841fc",
   "metadata": {},
   "outputs": [],
   "source": [
    "# by default functions will be having the positions arguments......!"
   ]
  },
  {
   "cell_type": "code",
   "execution_count": null,
   "id": "e658b757",
   "metadata": {},
   "outputs": [],
   "source": []
  },
  {
   "cell_type": "code",
   "execution_count": 13,
   "id": "e5a142d9",
   "metadata": {},
   "outputs": [
    {
     "name": "stdout",
     "output_type": "stream",
     "text": [
      "I have a fish\n",
      "my fish's name is goldy\n"
     ]
    }
   ],
   "source": [
    "describe_pet(petname='goldy' , animaltype = 'fish')"
   ]
  },
  {
   "cell_type": "code",
   "execution_count": null,
   "id": "b80adbdc",
   "metadata": {},
   "outputs": [],
   "source": [
    "keyword arguments."
   ]
  },
  {
   "cell_type": "code",
   "execution_count": null,
   "id": "b09368ff",
   "metadata": {},
   "outputs": [],
   "source": []
  },
  {
   "cell_type": "code",
   "execution_count": 14,
   "id": "da98c62a",
   "metadata": {},
   "outputs": [
    {
     "ename": "TypeError",
     "evalue": "describe_pet() missing 1 required positional argument: 'petname'",
     "output_type": "error",
     "traceback": [
      "\u001b[1;31m---------------------------------------------------------------------------\u001b[0m",
      "\u001b[1;31mTypeError\u001b[0m                                 Traceback (most recent call last)",
      "\u001b[1;32m<ipython-input-14-cbf409cdfecf>\u001b[0m in \u001b[0;36m<module>\u001b[1;34m\u001b[0m\n\u001b[1;32m----> 1\u001b[1;33m \u001b[0mdescribe_pet\u001b[0m\u001b[1;33m(\u001b[0m\u001b[1;34m'bruno'\u001b[0m\u001b[1;33m)\u001b[0m\u001b[1;33m\u001b[0m\u001b[1;33m\u001b[0m\u001b[0m\n\u001b[0m",
      "\u001b[1;31mTypeError\u001b[0m: describe_pet() missing 1 required positional argument: 'petname'"
     ]
    }
   ],
   "source": [
    "describe_pet('bruno')"
   ]
  },
  {
   "cell_type": "code",
   "execution_count": null,
   "id": "5976a4b0",
   "metadata": {},
   "outputs": [],
   "source": [
    "# req : animaltype ----> assumed to be the dog."
   ]
  },
  {
   "cell_type": "code",
   "execution_count": 15,
   "id": "b1afbfed",
   "metadata": {},
   "outputs": [
    {
     "ename": "SyntaxError",
     "evalue": "non-default argument follows default argument (<ipython-input-15-3d3f4a6d4843>, line 1)",
     "output_type": "error",
     "traceback": [
      "\u001b[1;36m  File \u001b[1;32m\"<ipython-input-15-3d3f4a6d4843>\"\u001b[1;36m, line \u001b[1;32m1\u001b[0m\n\u001b[1;33m    def describe_pet(animaltype = 'dog',petname):\u001b[0m\n\u001b[1;37m                     ^\u001b[0m\n\u001b[1;31mSyntaxError\u001b[0m\u001b[1;31m:\u001b[0m non-default argument follows default argument\n"
     ]
    }
   ],
   "source": [
    "def describe_pet(animaltype = 'dog',petname):\n",
    "    \"\"\"creating a pet function for describing the animals\"\"\"\n",
    "    print(f\"I have a {animaltype}\")\n",
    "    print(f\"my {animaltype}'s name is {petname}\")"
   ]
  },
  {
   "cell_type": "code",
   "execution_count": 16,
   "id": "46bd606d",
   "metadata": {},
   "outputs": [],
   "source": [
    "def describe_pet(petname, animaltype = 'dog'):\n",
    "    \"\"\"creating a pet function for describing the animals\"\"\"\n",
    "    print(f\"I have a {animaltype}\")\n",
    "    print(f\"my {animaltype}'s name is {petname}\")"
   ]
  },
  {
   "cell_type": "code",
   "execution_count": 17,
   "id": "83b768da",
   "metadata": {},
   "outputs": [
    {
     "name": "stdout",
     "output_type": "stream",
     "text": [
      "I have a dog\n",
      "my dog's name is bruno\n"
     ]
    }
   ],
   "source": [
    "describe_pet('bruno')"
   ]
  },
  {
   "cell_type": "code",
   "execution_count": null,
   "id": "df0c09a6",
   "metadata": {},
   "outputs": [],
   "source": []
  },
  {
   "cell_type": "code",
   "execution_count": 18,
   "id": "44539501",
   "metadata": {},
   "outputs": [
    {
     "name": "stdout",
     "output_type": "stream",
     "text": [
      "I have a rabbit\n",
      "my rabbit's name is teenu\n"
     ]
    }
   ],
   "source": [
    "describe_pet('teenu','rabbit')"
   ]
  },
  {
   "cell_type": "code",
   "execution_count": null,
   "id": "7ff9b6fd",
   "metadata": {},
   "outputs": [],
   "source": []
  }
 ],
 "metadata": {
  "kernelspec": {
   "display_name": "Python 3",
   "language": "python",
   "name": "python3"
  },
  "language_info": {
   "codemirror_mode": {
    "name": "ipython",
    "version": 3
   },
   "file_extension": ".py",
   "mimetype": "text/x-python",
   "name": "python",
   "nbconvert_exporter": "python",
   "pygments_lexer": "ipython3",
   "version": "3.8.8"
  }
 },
 "nbformat": 4,
 "nbformat_minor": 5
}
