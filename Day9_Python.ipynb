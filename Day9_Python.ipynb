{
 "cells": [
  {
   "cell_type": "code",
   "execution_count": null,
   "id": "956fe74d",
   "metadata": {},
   "outputs": [],
   "source": [
    "Continuation with Dictionaries:"
   ]
  },
  {
   "cell_type": "code",
   "execution_count": null,
   "id": "d87ac6e0",
   "metadata": {},
   "outputs": [],
   "source": []
  },
  {
   "cell_type": "code",
   "execution_count": 1,
   "id": "dec9cd3f",
   "metadata": {},
   "outputs": [
    {
     "name": "stdout",
     "output_type": "stream",
     "text": [
      "{'color': 'green', 'points': 5}\n"
     ]
    }
   ],
   "source": [
    "alien = {'color':'green','points':5}\n",
    "\n",
    "print(alien)"
   ]
  },
  {
   "cell_type": "code",
   "execution_count": null,
   "id": "559dd4c9",
   "metadata": {},
   "outputs": [],
   "source": []
  },
  {
   "cell_type": "code",
   "execution_count": null,
   "id": "c850d176",
   "metadata": {},
   "outputs": [],
   "source": [
    "# req : i want to know the colour of an alien."
   ]
  },
  {
   "cell_type": "code",
   "execution_count": 2,
   "id": "0df2a557",
   "metadata": {},
   "outputs": [
    {
     "name": "stdout",
     "output_type": "stream",
     "text": [
      "green\n"
     ]
    }
   ],
   "source": [
    "print(alien['color'])"
   ]
  },
  {
   "cell_type": "code",
   "execution_count": null,
   "id": "bd33d2fe",
   "metadata": {},
   "outputs": [],
   "source": []
  },
  {
   "cell_type": "code",
   "execution_count": null,
   "id": "55290abc",
   "metadata": {},
   "outputs": [],
   "source": [
    "how to add new key value pairs to the dictionary."
   ]
  },
  {
   "cell_type": "code",
   "execution_count": 3,
   "id": "ac72a6ac",
   "metadata": {},
   "outputs": [],
   "source": [
    "alien['starting_point'] = 0"
   ]
  },
  {
   "cell_type": "code",
   "execution_count": 4,
   "id": "7ea20d7e",
   "metadata": {},
   "outputs": [
    {
     "name": "stdout",
     "output_type": "stream",
     "text": [
      "{'color': 'green', 'points': 5, 'starting_point': 0}\n"
     ]
    }
   ],
   "source": [
    "print(alien)"
   ]
  },
  {
   "cell_type": "code",
   "execution_count": null,
   "id": "a9b3c268",
   "metadata": {},
   "outputs": [],
   "source": [
    "# req : add the current_position"
   ]
  },
  {
   "cell_type": "code",
   "execution_count": 5,
   "id": "e1297c1f",
   "metadata": {},
   "outputs": [],
   "source": [
    "alien['current_position'] = 10"
   ]
  },
  {
   "cell_type": "code",
   "execution_count": 6,
   "id": "1d6a477c",
   "metadata": {},
   "outputs": [
    {
     "name": "stdout",
     "output_type": "stream",
     "text": [
      "{'color': 'green', 'points': 5, 'starting_point': 0, 'current_position': 10}\n"
     ]
    }
   ],
   "source": [
    "print(alien)"
   ]
  },
  {
   "cell_type": "code",
   "execution_count": null,
   "id": "01abb661",
   "metadata": {},
   "outputs": [],
   "source": [
    "# how to modify the values of a particular key."
   ]
  },
  {
   "cell_type": "code",
   "execution_count": null,
   "id": "f800ab89",
   "metadata": {},
   "outputs": [],
   "source": [
    "# req : change color -----> yellow and points -----> 10."
   ]
  },
  {
   "cell_type": "code",
   "execution_count": 7,
   "id": "680b346f",
   "metadata": {},
   "outputs": [],
   "source": [
    "alien['color'] = 'yellow'\n",
    "alien['points'] = 10"
   ]
  },
  {
   "cell_type": "code",
   "execution_count": 8,
   "id": "0cb8256b",
   "metadata": {},
   "outputs": [
    {
     "name": "stdout",
     "output_type": "stream",
     "text": [
      "{'color': 'yellow', 'points': 10, 'starting_point': 0, 'current_position': 10}\n"
     ]
    }
   ],
   "source": [
    "print(alien)"
   ]
  },
  {
   "cell_type": "code",
   "execution_count": null,
   "id": "60d41a3c",
   "metadata": {},
   "outputs": [],
   "source": []
  },
  {
   "cell_type": "code",
   "execution_count": null,
   "id": "8287da29",
   "metadata": {},
   "outputs": [],
   "source": [
    "# req : creat a facebook user account :"
   ]
  },
  {
   "cell_type": "code",
   "execution_count": null,
   "id": "bb87e1f4",
   "metadata": {},
   "outputs": [],
   "source": []
  },
  {
   "cell_type": "code",
   "execution_count": 9,
   "id": "df54087a",
   "metadata": {},
   "outputs": [],
   "source": [
    "useraccount = {'username':'codetrainingacadamy','firstname':'codetraining','lastname':'academy','dob':'01-01-2019','pwd':'54321'}"
   ]
  },
  {
   "cell_type": "code",
   "execution_count": 10,
   "id": "8e9ce697",
   "metadata": {},
   "outputs": [
    {
     "name": "stdout",
     "output_type": "stream",
     "text": [
      "{'username': 'codetrainingacadamy', 'firstname': 'codetraining', 'lastname': 'academy', 'dob': '01-01-2019', 'pwd': '54321'}\n"
     ]
    }
   ],
   "source": [
    "print(useraccount)"
   ]
  },
  {
   "cell_type": "code",
   "execution_count": null,
   "id": "a1402853",
   "metadata": {},
   "outputs": [],
   "source": [
    "# req :"
   ]
  },
  {
   "cell_type": "code",
   "execution_count": 12,
   "id": "0441e88d",
   "metadata": {},
   "outputs": [],
   "source": [
    "useraccount['location'] = 'farzicafe'"
   ]
  },
  {
   "cell_type": "code",
   "execution_count": 13,
   "id": "e5377243",
   "metadata": {},
   "outputs": [
    {
     "name": "stdout",
     "output_type": "stream",
     "text": [
      "{'username': 'codetrainingacadamy', 'firstname': 'codetraining', 'lastname': 'academy', 'dob': '01-01-2019', 'pwd': '54321', 'location': 'farzicafe'}\n"
     ]
    }
   ],
   "source": [
    "print(useraccount)"
   ]
  },
  {
   "cell_type": "code",
   "execution_count": null,
   "id": "ec6cb58f",
   "metadata": {},
   "outputs": [],
   "source": []
  },
  {
   "cell_type": "code",
   "execution_count": null,
   "id": "d9e10781",
   "metadata": {},
   "outputs": [],
   "source": [
    "how to delete the key value pairs from a dictionary:"
   ]
  },
  {
   "cell_type": "code",
   "execution_count": null,
   "id": "c2f14208",
   "metadata": {},
   "outputs": [],
   "source": []
  },
  {
   "cell_type": "code",
   "execution_count": 14,
   "id": "a6eb5c24",
   "metadata": {},
   "outputs": [
    {
     "name": "stdout",
     "output_type": "stream",
     "text": [
      "{'color': 'yellow', 'points': 10, 'starting_point': 0, 'current_position': 10}\n"
     ]
    }
   ],
   "source": [
    "print(alien)"
   ]
  },
  {
   "cell_type": "code",
   "execution_count": null,
   "id": "b2b54f09",
   "metadata": {},
   "outputs": [],
   "source": []
  },
  {
   "cell_type": "code",
   "execution_count": null,
   "id": "97c1ea9d",
   "metadata": {},
   "outputs": [],
   "source": [
    "# req ; to delete the starting point of the alien."
   ]
  },
  {
   "cell_type": "code",
   "execution_count": 15,
   "id": "70628979",
   "metadata": {},
   "outputs": [],
   "source": [
    "del alien['starting_point']"
   ]
  },
  {
   "cell_type": "code",
   "execution_count": 16,
   "id": "65dc02ce",
   "metadata": {},
   "outputs": [
    {
     "name": "stdout",
     "output_type": "stream",
     "text": [
      "{'color': 'yellow', 'points': 10, 'current_position': 10}\n"
     ]
    }
   ],
   "source": [
    "print(alien)"
   ]
  },
  {
   "cell_type": "code",
   "execution_count": null,
   "id": "ad1dbb5f",
   "metadata": {},
   "outputs": [],
   "source": []
  },
  {
   "cell_type": "code",
   "execution_count": null,
   "id": "3e74c7c7",
   "metadata": {},
   "outputs": [],
   "source": [
    "for loop implimentation on top of dictionary :"
   ]
  },
  {
   "cell_type": "code",
   "execution_count": null,
   "id": "9cea2dc0",
   "metadata": {},
   "outputs": [],
   "source": []
  },
  {
   "cell_type": "code",
   "execution_count": null,
   "id": "2b497d27",
   "metadata": {},
   "outputs": [],
   "source": [
    "for tempvar in mainvar\n",
    "    print(tempvar)"
   ]
  },
  {
   "cell_type": "code",
   "execution_count": null,
   "id": "d633487b",
   "metadata": {},
   "outputs": [],
   "source": [
    "key and value"
   ]
  },
  {
   "cell_type": "code",
   "execution_count": null,
   "id": "c9bee26d",
   "metadata": {},
   "outputs": [],
   "source": [
    "# dict for loop implimentation.\n",
    "\n",
    "for tempvar1, tempvar2, in mainvar.items():\n",
    "    print(tempvar1)\n",
    "    print(tempvar2)"
   ]
  },
  {
   "cell_type": "code",
   "execution_count": null,
   "id": "5314b405",
   "metadata": {},
   "outputs": [],
   "source": []
  },
  {
   "cell_type": "code",
   "execution_count": 18,
   "id": "aed5170f",
   "metadata": {},
   "outputs": [
    {
     "name": "stdout",
     "output_type": "stream",
     "text": [
      "color\n",
      "yellow\n",
      "points\n",
      "10\n",
      "current_position\n",
      "10\n"
     ]
    }
   ],
   "source": [
    "for k,v in alien.items():\n",
    "    print(k)\n",
    "    print(v)"
   ]
  },
  {
   "cell_type": "code",
   "execution_count": 19,
   "id": "16c85d91",
   "metadata": {},
   "outputs": [
    {
     "name": "stdout",
     "output_type": "stream",
     "text": [
      "username\n",
      "codetrainingacadamy\n",
      "firstname\n",
      "codetraining\n",
      "lastname\n",
      "academy\n",
      "dob\n",
      "01-01-2019\n",
      "pwd\n",
      "54321\n",
      "location\n",
      "farzicafe\n"
     ]
    }
   ],
   "source": [
    "for a,b in useraccount.items():\n",
    "    print(a)\n",
    "    print(b)"
   ]
  },
  {
   "cell_type": "code",
   "execution_count": null,
   "id": "38a91f7e",
   "metadata": {},
   "outputs": [],
   "source": [
    "# enhancement of the code..."
   ]
  },
  {
   "cell_type": "code",
   "execution_count": 20,
   "id": "69b72255",
   "metadata": {},
   "outputs": [
    {
     "name": "stdout",
     "output_type": "stream",
     "text": [
      "key: username\n",
      "value: codetrainingacadamy\n",
      "key: firstname\n",
      "value: codetraining\n",
      "key: lastname\n",
      "value: academy\n",
      "key: dob\n",
      "value: 01-01-2019\n",
      "key: pwd\n",
      "value: 54321\n",
      "key: location\n",
      "value: farzicafe\n"
     ]
    }
   ],
   "source": [
    "for a,b in useraccount.items():\n",
    "    print(f\"key: {a}\")\n",
    "    print(f\"value: {b}\")"
   ]
  },
  {
   "cell_type": "code",
   "execution_count": null,
   "id": "7d6a79da",
   "metadata": {},
   "outputs": [],
   "source": [
    "# enhancement of code 2."
   ]
  },
  {
   "cell_type": "code",
   "execution_count": 21,
   "id": "b69b3ef2",
   "metadata": {},
   "outputs": [
    {
     "name": "stdout",
     "output_type": "stream",
     "text": [
      "key: username\n",
      "value: codetrainingacadamy.\n",
      "\n",
      "key: firstname\n",
      "value: codetraining.\n",
      "\n",
      "key: lastname\n",
      "value: academy.\n",
      "\n",
      "key: dob\n",
      "value: 01-01-2019.\n",
      "\n",
      "key: pwd\n",
      "value: 54321.\n",
      "\n",
      "key: location\n",
      "value: farzicafe.\n",
      "\n"
     ]
    }
   ],
   "source": [
    "for a,b in useraccount.items():\n",
    "    print(f\"key: {a}\")\n",
    "    print(f\"value: {b}.\\n\")"
   ]
  },
  {
   "cell_type": "code",
   "execution_count": null,
   "id": "57e72e95",
   "metadata": {},
   "outputs": [],
   "source": []
  },
  {
   "cell_type": "code",
   "execution_count": null,
   "id": "0dc03176",
   "metadata": {},
   "outputs": [],
   "source": [
    "Req : i only want to get key from the above."
   ]
  },
  {
   "cell_type": "code",
   "execution_count": 23,
   "id": "4a34b98f",
   "metadata": {},
   "outputs": [
    {
     "name": "stdout",
     "output_type": "stream",
     "text": [
      "key: username\n",
      "key: firstname\n",
      "key: lastname\n",
      "key: dob\n",
      "key: pwd\n",
      "key: location\n"
     ]
    }
   ],
   "source": [
    "for a in useraccount.keys():\n",
    "    print(f\"key: {a}\")"
   ]
  },
  {
   "cell_type": "code",
   "execution_count": null,
   "id": "781a2afd",
   "metadata": {},
   "outputs": [],
   "source": [
    "Req : i only want to get values from the above."
   ]
  },
  {
   "cell_type": "code",
   "execution_count": 24,
   "id": "d1c0c84b",
   "metadata": {},
   "outputs": [
    {
     "name": "stdout",
     "output_type": "stream",
     "text": [
      "values: codetrainingacadamy\n",
      "values: codetraining\n",
      "values: academy\n",
      "values: 01-01-2019\n",
      "values: 54321\n",
      "values: farzicafe\n"
     ]
    }
   ],
   "source": [
    "for b in useraccount.values():\n",
    "    print(f\"values: {b}\")"
   ]
  },
  {
   "cell_type": "code",
   "execution_count": null,
   "id": "cfe6ac33",
   "metadata": {},
   "outputs": [],
   "source": []
  },
  {
   "cell_type": "code",
   "execution_count": null,
   "id": "6cfac4ed",
   "metadata": {},
   "outputs": [],
   "source": []
  }
 ],
 "metadata": {
  "kernelspec": {
   "display_name": "Python 3",
   "language": "python",
   "name": "python3"
  },
  "language_info": {
   "codemirror_mode": {
    "name": "ipython",
    "version": 3
   },
   "file_extension": ".py",
   "mimetype": "text/x-python",
   "name": "python",
   "nbconvert_exporter": "python",
   "pygments_lexer": "ipython3",
   "version": "3.8.8"
  }
 },
 "nbformat": 4,
 "nbformat_minor": 5
}
