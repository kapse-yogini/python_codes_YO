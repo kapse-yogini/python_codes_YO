{
 "cells": [
  {
   "cell_type": "code",
   "execution_count": null,
   "id": "95ad27dc",
   "metadata": {},
   "outputs": [],
   "source": [
    "introduction to python classes :"
   ]
  },
  {
   "cell_type": "code",
   "execution_count": null,
   "id": "4e784fa4",
   "metadata": {},
   "outputs": [],
   "source": []
  },
  {
   "cell_type": "code",
   "execution_count": null,
   "id": "f8620bfc",
   "metadata": {},
   "outputs": [],
   "source": [
    "class =====> it is a high level blue print of the program. it is defined by using the keyword called as class.\n",
    "\n",
    "for declaring a class name we will be using the title case name.\n",
    "\n",
    "methods =====> A fun written inside a class is termed as method.\n",
    "\n",
    "attrtibutes =====> A variable written inside the class is called as an attribute.\n",
    "\n",
    "self ====> It is a temp placeholder for the object.\n",
    "\n",
    "object / instance ====> it is an entry /access point to the class methods."
   ]
  },
  {
   "cell_type": "code",
   "execution_count": null,
   "id": "9fb021d3",
   "metadata": {},
   "outputs": [],
   "source": []
  },
  {
   "cell_type": "code",
   "execution_count": null,
   "id": "ff9269b2",
   "metadata": {},
   "outputs": [],
   "source": [
    "# req : create a class name called Greet: it needs to have the below methods.\n",
    "\n",
    "# 1. createname ====> it need accept the input from the user. \n",
    "\n",
    "# 2. displayname ====> this method needs to display the neme of the user.\n",
    "\n",
    "# 3. greetuser ===> this method needs to greet the user."
   ]
  },
  {
   "cell_type": "code",
   "execution_count": null,
   "id": "a1593852",
   "metadata": {},
   "outputs": [],
   "source": []
  },
  {
   "cell_type": "code",
   "execution_count": null,
   "id": "b4e052f1",
   "metadata": {},
   "outputs": [],
   "source": []
  },
  {
   "cell_type": "code",
   "execution_count": 1,
   "id": "e37ee37b",
   "metadata": {},
   "outputs": [],
   "source": [
    "class Greet:     # this is the class name \n",
    "    \"\"\"creating a Greet class\"\"\"     # this is a doc string\n",
    "    \n",
    "    def createname(self,username):    # parameter # method name \n",
    "        self.username = username   # attribute \n",
    "        \n",
    "    def displayname(self):       # method name \n",
    "        print(self.username)\n",
    "        \n",
    "    def greetuser(self):      # method name \n",
    "        print(f\"Hello, good eve..., {self.username}\")"
   ]
  },
  {
   "cell_type": "code",
   "execution_count": null,
   "id": "20d2632b",
   "metadata": {},
   "outputs": [],
   "source": []
  },
  {
   "cell_type": "code",
   "execution_count": 2,
   "id": "9709b32f",
   "metadata": {},
   "outputs": [],
   "source": [
    "test = Greet()"
   ]
  },
  {
   "cell_type": "code",
   "execution_count": 5,
   "id": "8b32548b",
   "metadata": {},
   "outputs": [],
   "source": [
    "test.createname('vivek')    # it is accepting"
   ]
  },
  {
   "cell_type": "code",
   "execution_count": 6,
   "id": "a61fca31",
   "metadata": {},
   "outputs": [
    {
     "name": "stdout",
     "output_type": "stream",
     "text": [
      "vivek\n"
     ]
    }
   ],
   "source": [
    "test.displayname()    # displaying the user "
   ]
  },
  {
   "cell_type": "code",
   "execution_count": 7,
   "id": "c4bee8ee",
   "metadata": {},
   "outputs": [
    {
     "name": "stdout",
     "output_type": "stream",
     "text": [
      "Hello, good eve..., vivek\n"
     ]
    }
   ],
   "source": [
    "test.greetuser()   # greeting the user....."
   ]
  },
  {
   "cell_type": "code",
   "execution_count": null,
   "id": "f7d5d009",
   "metadata": {},
   "outputs": [],
   "source": []
  },
  {
   "cell_type": "code",
   "execution_count": null,
   "id": "8a002592",
   "metadata": {},
   "outputs": [],
   "source": [
    "OOPS ====> Object oriented programming....!"
   ]
  },
  {
   "cell_type": "code",
   "execution_count": null,
   "id": "bae3037e",
   "metadata": {},
   "outputs": [],
   "source": []
  },
  {
   "cell_type": "code",
   "execution_count": 8,
   "id": "c6d2c8e8",
   "metadata": {},
   "outputs": [],
   "source": [
    "x = Greet()"
   ]
  },
  {
   "cell_type": "code",
   "execution_count": 9,
   "id": "b0ca1a46",
   "metadata": {},
   "outputs": [],
   "source": [
    "x.createname('arshiya')"
   ]
  },
  {
   "cell_type": "code",
   "execution_count": 10,
   "id": "0e25af84",
   "metadata": {},
   "outputs": [
    {
     "name": "stdout",
     "output_type": "stream",
     "text": [
      "arshiya\n"
     ]
    }
   ],
   "source": [
    "x.displayname()"
   ]
  },
  {
   "cell_type": "code",
   "execution_count": 11,
   "id": "b45a4469",
   "metadata": {},
   "outputs": [
    {
     "name": "stdout",
     "output_type": "stream",
     "text": [
      "Hello, good eve..., arshiya\n"
     ]
    }
   ],
   "source": [
    "x.greetuser()"
   ]
  },
  {
   "cell_type": "code",
   "execution_count": null,
   "id": "68468bad",
   "metadata": {},
   "outputs": [],
   "source": []
  }
 ],
 "metadata": {
  "kernelspec": {
   "display_name": "Python 3",
   "language": "python",
   "name": "python3"
  },
  "language_info": {
   "codemirror_mode": {
    "name": "ipython",
    "version": 3
   },
   "file_extension": ".py",
   "mimetype": "text/x-python",
   "name": "python",
   "nbconvert_exporter": "python",
   "pygments_lexer": "ipython3",
   "version": "3.8.8"
  }
 },
 "nbformat": 4,
 "nbformat_minor": 5
}
