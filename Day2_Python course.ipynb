{
 "cells": [
  {
   "cell_type": "code",
   "execution_count": null,
   "id": "964fa7cc",
   "metadata": {},
   "outputs": [],
   "source": [
    "Understanding variables in Python:"
   ]
  },
  {
   "cell_type": "code",
   "execution_count": null,
   "id": "983401b7",
   "metadata": {},
   "outputs": [],
   "source": []
  },
  {
   "cell_type": "code",
   "execution_count": 1,
   "id": "c395eaec",
   "metadata": {},
   "outputs": [],
   "source": [
    "x = 5\n",
    "y = 3"
   ]
  },
  {
   "cell_type": "code",
   "execution_count": 2,
   "id": "ff9a028e",
   "metadata": {},
   "outputs": [
    {
     "name": "stdout",
     "output_type": "stream",
     "text": [
      "8\n"
     ]
    }
   ],
   "source": [
    "z = x+y\n",
    "print(z)"
   ]
  },
  {
   "cell_type": "code",
   "execution_count": null,
   "id": "5db4c995",
   "metadata": {},
   "outputs": [],
   "source": []
  },
  {
   "cell_type": "code",
   "execution_count": null,
   "id": "adfe59fe",
   "metadata": {},
   "outputs": [],
   "source": [
    "Rules for declaring variables in Python:"
   ]
  },
  {
   "cell_type": "code",
   "execution_count": null,
   "id": "7d17c1b4",
   "metadata": {},
   "outputs": [],
   "source": [
    "Rule no 1 : No namespace while declaring the variable name."
   ]
  },
  {
   "cell_type": "code",
   "execution_count": 3,
   "id": "3fa1d0e8",
   "metadata": {},
   "outputs": [
    {
     "ename": "SyntaxError",
     "evalue": "invalid syntax (<ipython-input-3-ecc03e6656c8>, line 1)",
     "output_type": "error",
     "traceback": [
      "\u001b[1;36m  File \u001b[1;32m\"<ipython-input-3-ecc03e6656c8>\"\u001b[1;36m, line \u001b[1;32m1\u001b[0m\n\u001b[1;33m    first name = 'Yogini'\u001b[0m\n\u001b[1;37m          ^\u001b[0m\n\u001b[1;31mSyntaxError\u001b[0m\u001b[1;31m:\u001b[0m invalid syntax\n"
     ]
    }
   ],
   "source": [
    "first name = 'Yogini'\n",
    "print(first name)"
   ]
  },
  {
   "cell_type": "code",
   "execution_count": 4,
   "id": "7da91ebf",
   "metadata": {},
   "outputs": [
    {
     "name": "stdout",
     "output_type": "stream",
     "text": [
      "Yogini\n"
     ]
    }
   ],
   "source": [
    "firstname = 'Yogini'\n",
    "print(firstname)"
   ]
  },
  {
   "cell_type": "code",
   "execution_count": null,
   "id": "cd322428",
   "metadata": {},
   "outputs": [],
   "source": []
  },
  {
   "cell_type": "code",
   "execution_count": null,
   "id": "adb74d5e",
   "metadata": {},
   "outputs": [],
   "source": [
    "Rule no 2 : A variable name should not start with the number. **"
   ]
  },
  {
   "cell_type": "code",
   "execution_count": 5,
   "id": "f42c5f51",
   "metadata": {},
   "outputs": [
    {
     "ename": "SyntaxError",
     "evalue": "invalid syntax (<ipython-input-5-3916ab352648>, line 1)",
     "output_type": "error",
     "traceback": [
      "\u001b[1;36m  File \u001b[1;32m\"<ipython-input-5-3916ab352648>\"\u001b[1;36m, line \u001b[1;32m1\u001b[0m\n\u001b[1;33m    1name = 'naveen'\u001b[0m\n\u001b[1;37m     ^\u001b[0m\n\u001b[1;31mSyntaxError\u001b[0m\u001b[1;31m:\u001b[0m invalid syntax\n"
     ]
    }
   ],
   "source": [
    "1name = 'naveen'"
   ]
  },
  {
   "cell_type": "code",
   "execution_count": 6,
   "id": "5641d5c7",
   "metadata": {},
   "outputs": [
    {
     "name": "stdout",
     "output_type": "stream",
     "text": [
      "naveen\n"
     ]
    }
   ],
   "source": [
    "name1 = 'naveen'\n",
    "\n",
    "print(name1)"
   ]
  },
  {
   "cell_type": "code",
   "execution_count": null,
   "id": "ca998f77",
   "metadata": {},
   "outputs": [],
   "source": []
  },
  {
   "cell_type": "code",
   "execution_count": null,
   "id": "2c01a4a9",
   "metadata": {},
   "outputs": [],
   "source": [
    "Rule no 3 : A variable name should not contain any special characters."
   ]
  },
  {
   "cell_type": "code",
   "execution_count": null,
   "id": "2e3d1dea",
   "metadata": {},
   "outputs": [],
   "source": [
    "@$%&------> we should not use them in between a variable----->"
   ]
  },
  {
   "cell_type": "code",
   "execution_count": 7,
   "id": "7141dce3",
   "metadata": {},
   "outputs": [
    {
     "ename": "SyntaxError",
     "evalue": "invalid syntax (<ipython-input-7-9b9f0a0434f1>, line 1)",
     "output_type": "error",
     "traceback": [
      "\u001b[1;36m  File \u001b[1;32m\"<ipython-input-7-9b9f0a0434f1>\"\u001b[1;36m, line \u001b[1;32m1\u001b[0m\n\u001b[1;33m    name@ = 'Jhon'\u001b[0m\n\u001b[1;37m          ^\u001b[0m\n\u001b[1;31mSyntaxError\u001b[0m\u001b[1;31m:\u001b[0m invalid syntax\n"
     ]
    }
   ],
   "source": [
    "name@ = 'Jhon'\n",
    "\n",
    "print(name@)"
   ]
  },
  {
   "cell_type": "code",
   "execution_count": null,
   "id": "e0d2e829",
   "metadata": {},
   "outputs": [],
   "source": [
    "Introduction to datatype in Python:\n",
    "    1. String--------> str\n",
    "    2. Numbers -------> integers (int) and floats (decimals)\n",
    "    3. list ------> list\n",
    "    4. tuple ------> tuple \n",
    "    5. Dictionaries -------> dict"
   ]
  },
  {
   "cell_type": "code",
   "execution_count": null,
   "id": "ab28b45b",
   "metadata": {},
   "outputs": [],
   "source": []
  },
  {
   "cell_type": "code",
   "execution_count": null,
   "id": "4d0d4a8a",
   "metadata": {},
   "outputs": [],
   "source": [
    "Classification of datatypes : \n",
    "    1. mutable datatypes ------> we are able to change or edit this datatype (flexible)\n",
    "    2. immutable datatypes -------> we will not be able to change or edit this datatype (fixed)"
   ]
  },
  {
   "cell_type": "code",
   "execution_count": null,
   "id": "d6a54444",
   "metadata": {},
   "outputs": [],
   "source": []
  },
  {
   "cell_type": "code",
   "execution_count": null,
   "id": "02b60231",
   "metadata": {},
   "outputs": [],
   "source": [
    "Introduction to string datatype :"
   ]
  },
  {
   "cell_type": "code",
   "execution_count": null,
   "id": "15d16ab2",
   "metadata": {},
   "outputs": [],
   "source": [
    "Defination : A string is a series of characters enclosed in quotes.\n",
    "    \n",
    "Classification : It is classified as an immutable datatype.\n",
    "    \n",
    "\n",
    "How to declare a string-----> possible ways.\n",
    "1. single quotes\n",
    "2. double quotes\n",
    "3. triple quotes"
   ]
  },
  {
   "cell_type": "code",
   "execution_count": null,
   "id": "25139dae",
   "metadata": {},
   "outputs": [],
   "source": []
  },
  {
   "cell_type": "code",
   "execution_count": 8,
   "id": "c5cb1015",
   "metadata": {},
   "outputs": [
    {
     "name": "stdout",
     "output_type": "stream",
     "text": [
      "kumar\n"
     ]
    }
   ],
   "source": [
    "name = 'kumar'     # single quotes\n",
    "\n",
    "print(name)"
   ]
  },
  {
   "cell_type": "code",
   "execution_count": 9,
   "id": "3de5e547",
   "metadata": {},
   "outputs": [
    {
     "name": "stdout",
     "output_type": "stream",
     "text": [
      "heena\n"
     ]
    }
   ],
   "source": [
    "name2 = \"heena\"     # double quotes\n",
    "\n",
    "print(name2)"
   ]
  },
  {
   "cell_type": "code",
   "execution_count": 10,
   "id": "76c65cf5",
   "metadata": {},
   "outputs": [
    {
     "name": "stdout",
     "output_type": "stream",
     "text": [
      "raju\n"
     ]
    }
   ],
   "source": [
    "name3 = \"\"\"raju\"\"\"     # triple quotes\n",
    "\n",
    "print(name3)"
   ]
  },
  {
   "cell_type": "code",
   "execution_count": null,
   "id": "c4a10e53",
   "metadata": {},
   "outputs": [],
   "source": []
  },
  {
   "cell_type": "code",
   "execution_count": 11,
   "id": "1dda6dcf",
   "metadata": {},
   "outputs": [],
   "source": [
    "# hashtag is used for commenting the line in python ------>"
   ]
  },
  {
   "cell_type": "code",
   "execution_count": 12,
   "id": "b6366753",
   "metadata": {},
   "outputs": [
    {
     "ename": "SyntaxError",
     "evalue": "invalid syntax (<ipython-input-12-8f390bbc19a2>, line 1)",
     "output_type": "error",
     "traceback": [
      "\u001b[1;36m  File \u001b[1;32m\"<ipython-input-12-8f390bbc19a2>\"\u001b[1;36m, line \u001b[1;32m1\u001b[0m\n\u001b[1;33m    hashtag is used for commenting the line in python\u001b[0m\n\u001b[1;37m                    ^\u001b[0m\n\u001b[1;31mSyntaxError\u001b[0m\u001b[1;31m:\u001b[0m invalid syntax\n"
     ]
    }
   ],
   "source": [
    "hashtag is used for commenting the line in python "
   ]
  },
  {
   "cell_type": "code",
   "execution_count": null,
   "id": "e5aa31d8",
   "metadata": {},
   "outputs": [],
   "source": []
  },
  {
   "cell_type": "code",
   "execution_count": null,
   "id": "4652c27a",
   "metadata": {},
   "outputs": [],
   "source": [
    "introduction to string methods."
   ]
  },
  {
   "cell_type": "code",
   "execution_count": null,
   "id": "05309909",
   "metadata": {},
   "outputs": [],
   "source": [
    "methods are builtin programs that are readily available to use in python."
   ]
  },
  {
   "cell_type": "code",
   "execution_count": 13,
   "id": "b583f121",
   "metadata": {},
   "outputs": [
    {
     "data": {
      "text/plain": [
       "str"
      ]
     },
     "execution_count": 13,
     "metadata": {},
     "output_type": "execute_result"
    }
   ],
   "source": [
    "type(name)"
   ]
  },
  {
   "cell_type": "code",
   "execution_count": 14,
   "id": "df797787",
   "metadata": {},
   "outputs": [
    {
     "data": {
      "text/plain": [
       "str"
      ]
     },
     "execution_count": 14,
     "metadata": {},
     "output_type": "execute_result"
    }
   ],
   "source": [
    "type(name2)"
   ]
  },
  {
   "cell_type": "code",
   "execution_count": 15,
   "id": "d482273a",
   "metadata": {},
   "outputs": [
    {
     "data": {
      "text/plain": [
       "str"
      ]
     },
     "execution_count": 15,
     "metadata": {},
     "output_type": "execute_result"
    }
   ],
   "source": [
    "type(name3)"
   ]
  },
  {
   "cell_type": "code",
   "execution_count": null,
   "id": "ce33c395",
   "metadata": {},
   "outputs": [],
   "source": [
    "Type method will be helping us to validate the datatype."
   ]
  },
  {
   "cell_type": "code",
   "execution_count": null,
   "id": "0d3da59e",
   "metadata": {},
   "outputs": [],
   "source": [
    "note : python is the case sensitive language."
   ]
  },
  {
   "cell_type": "code",
   "execution_count": null,
   "id": "61e65f88",
   "metadata": {},
   "outputs": [],
   "source": [
    "for eg ------->"
   ]
  },
  {
   "cell_type": "code",
   "execution_count": 16,
   "id": "c4a3ff6d",
   "metadata": {},
   "outputs": [
    {
     "ename": "NameError",
     "evalue": "name 'Type' is not defined",
     "output_type": "error",
     "traceback": [
      "\u001b[1;31m---------------------------------------------------------------------------\u001b[0m",
      "\u001b[1;31mNameError\u001b[0m                                 Traceback (most recent call last)",
      "\u001b[1;32m<ipython-input-16-0737fd4134aa>\u001b[0m in \u001b[0;36m<module>\u001b[1;34m\u001b[0m\n\u001b[1;32m----> 1\u001b[1;33m \u001b[0mType\u001b[0m\u001b[1;33m(\u001b[0m\u001b[0mname4\u001b[0m\u001b[1;33m)\u001b[0m\u001b[1;33m\u001b[0m\u001b[1;33m\u001b[0m\u001b[0m\n\u001b[0m",
      "\u001b[1;31mNameError\u001b[0m: name 'Type' is not defined"
     ]
    }
   ],
   "source": [
    "Type(name4)"
   ]
  }
 ],
 "metadata": {
  "kernelspec": {
   "display_name": "Python 3",
   "language": "python",
   "name": "python3"
  },
  "language_info": {
   "codemirror_mode": {
    "name": "ipython",
    "version": 3
   },
   "file_extension": ".py",
   "mimetype": "text/x-python",
   "name": "python",
   "nbconvert_exporter": "python",
   "pygments_lexer": "ipython3",
   "version": "3.8.8"
  }
 },
 "nbformat": 4,
 "nbformat_minor": 5
}
