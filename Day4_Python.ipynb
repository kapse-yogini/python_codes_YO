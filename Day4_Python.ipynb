{
 "cells": [
  {
   "cell_type": "code",
   "execution_count": null,
   "id": "f1a4b417",
   "metadata": {},
   "outputs": [],
   "source": [
    "introduction to list datatypes"
   ]
  },
  {
   "cell_type": "code",
   "execution_count": null,
   "id": "6eefa78a",
   "metadata": {},
   "outputs": [],
   "source": [
    "defination : A list is a collection of items in a particular order.\n",
    "\n",
    "classification : it is classified as a multiple datatype.\n",
    "\n",
    "how do you declare a list. ---------> [] ======> square brackets.   \n",
    "    "
   ]
  },
  {
   "cell_type": "code",
   "execution_count": null,
   "id": "5ba92603",
   "metadata": {},
   "outputs": [],
   "source": []
  },
  {
   "cell_type": "code",
   "execution_count": 1,
   "id": "9ff1d533",
   "metadata": {},
   "outputs": [],
   "source": [
    "students = ['naveen','kranthi','hameed','john','farheen','swetha']"
   ]
  },
  {
   "cell_type": "code",
   "execution_count": 2,
   "id": "df6a26b4",
   "metadata": {},
   "outputs": [
    {
     "name": "stdout",
     "output_type": "stream",
     "text": [
      "['naveen', 'kranthi', 'hameed', 'john', 'farheen', 'swetha']\n"
     ]
    }
   ],
   "source": [
    "print(students)"
   ]
  },
  {
   "cell_type": "code",
   "execution_count": null,
   "id": "d96ddf45",
   "metadata": {},
   "outputs": [],
   "source": []
  },
  {
   "cell_type": "code",
   "execution_count": 3,
   "id": "a19f83e9",
   "metadata": {},
   "outputs": [
    {
     "data": {
      "text/plain": [
       "list"
      ]
     },
     "execution_count": 3,
     "metadata": {},
     "output_type": "execute_result"
    }
   ],
   "source": [
    "type(students)"
   ]
  },
  {
   "cell_type": "code",
   "execution_count": null,
   "id": "209274a9",
   "metadata": {},
   "outputs": [],
   "source": []
  },
  {
   "cell_type": "code",
   "execution_count": 4,
   "id": "929025e7",
   "metadata": {},
   "outputs": [
    {
     "name": "stdout",
     "output_type": "stream",
     "text": [
      "['naveen', 'kranthi', 'hameed', 'john', 'farheen', 'swetha']\n"
     ]
    }
   ],
   "source": [
    "print(students)"
   ]
  },
  {
   "cell_type": "code",
   "execution_count": null,
   "id": "89fc6a4b",
   "metadata": {},
   "outputs": [],
   "source": []
  },
  {
   "cell_type": "code",
   "execution_count": null,
   "id": "25be45f6",
   "metadata": {},
   "outputs": [],
   "source": [
    "#req : how to access the element from the list.....?"
   ]
  },
  {
   "cell_type": "code",
   "execution_count": null,
   "id": "20e1ff56",
   "metadata": {},
   "outputs": [],
   "source": []
  },
  {
   "cell_type": "code",
   "execution_count": null,
   "id": "71700f98",
   "metadata": {},
   "outputs": [],
   "source": [
    "indexing : 0,1,2,3,4,..... "
   ]
  },
  {
   "cell_type": "code",
   "execution_count": null,
   "id": "24389320",
   "metadata": {},
   "outputs": [],
   "source": [
    "# assigning a particular number for the list element."
   ]
  },
  {
   "cell_type": "code",
   "execution_count": null,
   "id": "583b4a40",
   "metadata": {},
   "outputs": [],
   "source": []
  },
  {
   "cell_type": "code",
   "execution_count": 5,
   "id": "50ec7782",
   "metadata": {},
   "outputs": [
    {
     "name": "stdout",
     "output_type": "stream",
     "text": [
      "kranthi\n"
     ]
    }
   ],
   "source": [
    "print(students[1])"
   ]
  },
  {
   "cell_type": "code",
   "execution_count": 6,
   "id": "a6f41e7d",
   "metadata": {},
   "outputs": [
    {
     "name": "stdout",
     "output_type": "stream",
     "text": [
      "john\n"
     ]
    }
   ],
   "source": [
    "print(students[3])"
   ]
  },
  {
   "cell_type": "code",
   "execution_count": 7,
   "id": "19cb66e5",
   "metadata": {},
   "outputs": [
    {
     "name": "stdout",
     "output_type": "stream",
     "text": [
      "John\n"
     ]
    }
   ],
   "source": [
    "print(students[3].title())     "
   ]
  },
  {
   "cell_type": "code",
   "execution_count": null,
   "id": "7656c6cd",
   "metadata": {},
   "outputs": [],
   "source": []
  },
  {
   "cell_type": "code",
   "execution_count": null,
   "id": "cd74a4df",
   "metadata": {},
   "outputs": [],
   "source": [
    "1. how to add new elements to the list.\n",
    "2. how to modify the elements in the list.\n",
    "3. how to delete the element in the list."
   ]
  },
  {
   "cell_type": "code",
   "execution_count": null,
   "id": "58dc9a46",
   "metadata": {},
   "outputs": [],
   "source": []
  },
  {
   "cell_type": "code",
   "execution_count": 8,
   "id": "6bf5a137",
   "metadata": {},
   "outputs": [
    {
     "name": "stdout",
     "output_type": "stream",
     "text": [
      "['naveen', 'kranthi', 'hameed', 'john', 'farheen', 'swetha']\n"
     ]
    }
   ],
   "source": [
    "print(students)"
   ]
  },
  {
   "cell_type": "code",
   "execution_count": null,
   "id": "f5b2b619",
   "metadata": {},
   "outputs": [],
   "source": []
  },
  {
   "cell_type": "code",
   "execution_count": null,
   "id": "dadb461a",
   "metadata": {},
   "outputs": [],
   "source": [
    "# req : i want to add rafi to the above students list.....?"
   ]
  },
  {
   "cell_type": "code",
   "execution_count": 9,
   "id": "b7928494",
   "metadata": {},
   "outputs": [],
   "source": [
    "students.append('rafi')"
   ]
  },
  {
   "cell_type": "code",
   "execution_count": 10,
   "id": "891992c4",
   "metadata": {},
   "outputs": [
    {
     "name": "stdout",
     "output_type": "stream",
     "text": [
      "['naveen', 'kranthi', 'hameed', 'john', 'farheen', 'swetha', 'rafi']\n"
     ]
    }
   ],
   "source": [
    "print(students)"
   ]
  },
  {
   "cell_type": "code",
   "execution_count": null,
   "id": "19aae21a",
   "metadata": {},
   "outputs": [],
   "source": [
    "# req : iwant to add sudha to the above students list.....?"
   ]
  },
  {
   "cell_type": "code",
   "execution_count": 11,
   "id": "51c05817",
   "metadata": {},
   "outputs": [],
   "source": [
    "students.append('sudha')"
   ]
  },
  {
   "cell_type": "code",
   "execution_count": 12,
   "id": "8e5d2602",
   "metadata": {},
   "outputs": [
    {
     "name": "stdout",
     "output_type": "stream",
     "text": [
      "['naveen', 'kranthi', 'hameed', 'john', 'farheen', 'swetha', 'rafi', 'sudha']\n"
     ]
    }
   ],
   "source": [
    "print(students)"
   ]
  },
  {
   "cell_type": "code",
   "execution_count": null,
   "id": "fb82de55",
   "metadata": {},
   "outputs": [],
   "source": []
  },
  {
   "cell_type": "code",
   "execution_count": null,
   "id": "d57632ec",
   "metadata": {},
   "outputs": [],
   "source": [
    "# req : i want to add kiran in 2nd index....?"
   ]
  },
  {
   "cell_type": "code",
   "execution_count": 13,
   "id": "a1583786",
   "metadata": {},
   "outputs": [],
   "source": [
    "students.insert(2,'kiran')"
   ]
  },
  {
   "cell_type": "code",
   "execution_count": 14,
   "id": "9aa35f78",
   "metadata": {},
   "outputs": [
    {
     "name": "stdout",
     "output_type": "stream",
     "text": [
      "['naveen', 'kranthi', 'kiran', 'hameed', 'john', 'farheen', 'swetha', 'rafi', 'sudha']\n"
     ]
    }
   ],
   "source": [
    "print(students)"
   ]
  },
  {
   "cell_type": "code",
   "execution_count": 15,
   "id": "e8767070",
   "metadata": {},
   "outputs": [
    {
     "name": "stdout",
     "output_type": "stream",
     "text": [
      "kiran\n"
     ]
    }
   ],
   "source": [
    "print(students[2])"
   ]
  },
  {
   "cell_type": "code",
   "execution_count": null,
   "id": "68ad1bf2",
   "metadata": {},
   "outputs": [],
   "source": []
  },
  {
   "cell_type": "code",
   "execution_count": null,
   "id": "3865f8c8",
   "metadata": {},
   "outputs": [],
   "source": [
    "interview questions : what is the diff btw append and insert in a list? can you explain?"
   ]
  },
  {
   "cell_type": "code",
   "execution_count": null,
   "id": "6ca4bbd3",
   "metadata": {},
   "outputs": [],
   "source": []
  },
  {
   "cell_type": "code",
   "execution_count": null,
   "id": "af7c3fe1",
   "metadata": {},
   "outputs": [],
   "source": [
    "how to modify the elements in a list?"
   ]
  },
  {
   "cell_type": "code",
   "execution_count": 16,
   "id": "22c6090a",
   "metadata": {},
   "outputs": [
    {
     "name": "stdout",
     "output_type": "stream",
     "text": [
      "['naveen', 'kranthi', 'kiran', 'hameed', 'john', 'farheen', 'swetha', 'rafi', 'sudha']\n"
     ]
    }
   ],
   "source": [
    "print(students)"
   ]
  },
  {
   "cell_type": "code",
   "execution_count": null,
   "id": "e377c0a9",
   "metadata": {},
   "outputs": [],
   "source": [
    "# req : i want to modify the naveen name to namitha?"
   ]
  },
  {
   "cell_type": "code",
   "execution_count": 18,
   "id": "96bb5872",
   "metadata": {},
   "outputs": [],
   "source": [
    "students[0] = 'namitha'"
   ]
  },
  {
   "cell_type": "code",
   "execution_count": 19,
   "id": "9281a397",
   "metadata": {},
   "outputs": [
    {
     "name": "stdout",
     "output_type": "stream",
     "text": [
      "['namitha', 'kranthi', 'kiran', 'hameed', 'john', 'farheen', 'swetha', 'rafi', 'sudha']\n"
     ]
    }
   ],
   "source": [
    "print(students)"
   ]
  },
  {
   "cell_type": "code",
   "execution_count": null,
   "id": "ee085416",
   "metadata": {},
   "outputs": [],
   "source": []
  },
  {
   "cell_type": "code",
   "execution_count": null,
   "id": "153318e5",
   "metadata": {},
   "outputs": [],
   "source": [
    "3. how to delete the element in a list...?"
   ]
  },
  {
   "cell_type": "code",
   "execution_count": 20,
   "id": "ec837a06",
   "metadata": {},
   "outputs": [
    {
     "name": "stdout",
     "output_type": "stream",
     "text": [
      "['namitha', 'kranthi', 'kiran', 'hameed', 'john', 'farheen', 'swetha', 'rafi', 'sudha']\n"
     ]
    }
   ],
   "source": [
    "print(students)"
   ]
  },
  {
   "cell_type": "code",
   "execution_count": null,
   "id": "ef880051",
   "metadata": {},
   "outputs": [],
   "source": [
    "# req : i want to delete kiran name in the list....?"
   ]
  },
  {
   "cell_type": "code",
   "execution_count": 21,
   "id": "047b97e9",
   "metadata": {},
   "outputs": [],
   "source": [
    "del students[2]"
   ]
  },
  {
   "cell_type": "code",
   "execution_count": 22,
   "id": "502f67ee",
   "metadata": {},
   "outputs": [
    {
     "name": "stdout",
     "output_type": "stream",
     "text": [
      "['namitha', 'kranthi', 'hameed', 'john', 'farheen', 'swetha', 'rafi', 'sudha']\n"
     ]
    }
   ],
   "source": [
    "print(students)"
   ]
  },
  {
   "cell_type": "code",
   "execution_count": null,
   "id": "b8a442b2",
   "metadata": {},
   "outputs": [],
   "source": []
  }
 ],
 "metadata": {
  "kernelspec": {
   "display_name": "Python 3",
   "language": "python",
   "name": "python3"
  },
  "language_info": {
   "codemirror_mode": {
    "name": "ipython",
    "version": 3
   },
   "file_extension": ".py",
   "mimetype": "text/x-python",
   "name": "python",
   "nbconvert_exporter": "python",
   "pygments_lexer": "ipython3",
   "version": "3.8.8"
  }
 },
 "nbformat": 4,
 "nbformat_minor": 5
}
