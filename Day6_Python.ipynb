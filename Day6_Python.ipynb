{
 "cells": [
  {
   "cell_type": "code",
   "execution_count": null,
   "id": "3f01a594",
   "metadata": {},
   "outputs": [],
   "source": [
    "introduction to looping statements : ***"
   ]
  },
  {
   "cell_type": "code",
   "execution_count": null,
   "id": "8f012d7c",
   "metadata": {},
   "outputs": [],
   "source": []
  },
  {
   "cell_type": "code",
   "execution_count": 1,
   "id": "5d74c50f",
   "metadata": {},
   "outputs": [],
   "source": [
    "students = ['kranthi','shreya','pooja','sajid','aliya','namitha']"
   ]
  },
  {
   "cell_type": "code",
   "execution_count": 2,
   "id": "015ba5e6",
   "metadata": {},
   "outputs": [
    {
     "name": "stdout",
     "output_type": "stream",
     "text": [
      "['kranthi', 'shreya', 'pooja', 'sajid', 'aliya', 'namitha']\n"
     ]
    }
   ],
   "source": [
    "print(students)"
   ]
  },
  {
   "cell_type": "code",
   "execution_count": 3,
   "id": "3a242d94",
   "metadata": {},
   "outputs": [
    {
     "data": {
      "text/plain": [
       "list"
      ]
     },
     "execution_count": 3,
     "metadata": {},
     "output_type": "execute_result"
    }
   ],
   "source": [
    "type(students)"
   ]
  },
  {
   "cell_type": "code",
   "execution_count": null,
   "id": "055b25db",
   "metadata": {},
   "outputs": [],
   "source": []
  },
  {
   "cell_type": "code",
   "execution_count": null,
   "id": "66eeba77",
   "metadata": {},
   "outputs": [],
   "source": [
    "# req : i want to appreciate all the students in the list...."
   ]
  },
  {
   "cell_type": "code",
   "execution_count": 5,
   "id": "e597bcce",
   "metadata": {},
   "outputs": [
    {
     "name": "stdout",
     "output_type": "stream",
     "text": [
      "keep up the good work, kranthi\n"
     ]
    }
   ],
   "source": [
    "print(f\"keep up the good work, {students[0]}\")"
   ]
  },
  {
   "cell_type": "code",
   "execution_count": 8,
   "id": "8319ed45",
   "metadata": {},
   "outputs": [
    {
     "name": "stdout",
     "output_type": "stream",
     "text": [
      "keep up the good work, Kranthi\n"
     ]
    }
   ],
   "source": [
    "print(f\"keep up the good work, {students[0].title()}\")"
   ]
  },
  {
   "cell_type": "code",
   "execution_count": 9,
   "id": "5765dfed",
   "metadata": {},
   "outputs": [
    {
     "name": "stdout",
     "output_type": "stream",
     "text": [
      "keep up the good work, Shreya\n"
     ]
    }
   ],
   "source": [
    "print(f\"keep up the good work, {students[1].title()}\")"
   ]
  },
  {
   "cell_type": "code",
   "execution_count": 10,
   "id": "6d8466df",
   "metadata": {},
   "outputs": [
    {
     "name": "stdout",
     "output_type": "stream",
     "text": [
      "keep up the good work, Pooja\n"
     ]
    }
   ],
   "source": [
    "print(f\"keep up the good work, {students[2].title()}\")"
   ]
  },
  {
   "cell_type": "code",
   "execution_count": null,
   "id": "d5fcc3ca",
   "metadata": {},
   "outputs": [],
   "source": []
  },
  {
   "cell_type": "code",
   "execution_count": null,
   "id": "d8ea7138",
   "metadata": {},
   "outputs": [],
   "source": [
    "# general syntax of list data type :"
   ]
  },
  {
   "cell_type": "code",
   "execution_count": null,
   "id": "91d01697",
   "metadata": {},
   "outputs": [],
   "source": [
    "for tempvar in mainvar:\n",
    "    print(tempvar)"
   ]
  },
  {
   "cell_type": "code",
   "execution_count": 11,
   "id": "ca9c17bc",
   "metadata": {},
   "outputs": [
    {
     "name": "stdout",
     "output_type": "stream",
     "text": [
      "keep up the good work, Kranthi\n",
      "keep up the good work, Shreya\n",
      "keep up the good work, Pooja\n",
      "keep up the good work, Sajid\n",
      "keep up the good work, Aliya\n",
      "keep up the good work, Namitha\n"
     ]
    }
   ],
   "source": [
    "for x in students:\n",
    "    print(f\"keep up the good work, {x.title()}\")"
   ]
  },
  {
   "cell_type": "code",
   "execution_count": 12,
   "id": "2dec21d2",
   "metadata": {},
   "outputs": [
    {
     "name": "stdout",
     "output_type": "stream",
     "text": [
      "keep up the good work, Kranthi\n",
      "keep up the good work, Shreya\n",
      "keep up the good work, Pooja\n",
      "keep up the good work, Sajid\n",
      "keep up the good work, Aliya\n",
      "keep up the good work, Namitha\n"
     ]
    }
   ],
   "source": [
    "for ironman in students:\n",
    "    print(f\"keep up the good work, {ironman.title()}\")   "
   ]
  },
  {
   "cell_type": "code",
   "execution_count": null,
   "id": "baef6ca7",
   "metadata": {},
   "outputs": [],
   "source": [
    "# here in above cell the gap before the print functino is called as indentation....\n",
    "# now here in below cell we will lookout what will happen if we do not use indentation"
   ]
  },
  {
   "cell_type": "code",
   "execution_count": 13,
   "id": "20579e79",
   "metadata": {},
   "outputs": [
    {
     "ename": "IndentationError",
     "evalue": "expected an indented block (<ipython-input-13-9551028f2c80>, line 2)",
     "output_type": "error",
     "traceback": [
      "\u001b[1;36m  File \u001b[1;32m\"<ipython-input-13-9551028f2c80>\"\u001b[1;36m, line \u001b[1;32m2\u001b[0m\n\u001b[1;33m    print(f\"keep up the good work, {ironman.title()}\")\u001b[0m\n\u001b[1;37m    ^\u001b[0m\n\u001b[1;31mIndentationError\u001b[0m\u001b[1;31m:\u001b[0m expected an indented block\n"
     ]
    }
   ],
   "source": [
    "for ironman in students:\n",
    "print(f\"keep up the good work, {ironman.title()}\")     # here we will get indentation error as you can observe....."
   ]
  },
  {
   "cell_type": "code",
   "execution_count": null,
   "id": "87a408f3",
   "metadata": {},
   "outputs": [],
   "source": [
    "# req : to send all the list students two msg in a same code....?"
   ]
  },
  {
   "cell_type": "code",
   "execution_count": 17,
   "id": "a71f4a4c",
   "metadata": {},
   "outputs": [
    {
     "name": "stdout",
     "output_type": "stream",
     "text": [
      "keep up the good work, Kranthi\n",
      "please do send me the practice file today,Kranthi\n",
      "keep up the good work, Shreya\n",
      "please do send me the practice file today,Shreya\n",
      "keep up the good work, Pooja\n",
      "please do send me the practice file today,Pooja\n",
      "keep up the good work, Sajid\n",
      "please do send me the practice file today,Sajid\n",
      "keep up the good work, Aliya\n",
      "please do send me the practice file today,Aliya\n",
      "keep up the good work, Namitha\n",
      "please do send me the practice file today,Namitha\n"
     ]
    }
   ],
   "source": [
    "for x in students:\n",
    "    print(f\"keep up the good work, {x.title()}\")\n",
    "    print(f\"please do send me the practice file today,{x.title()}\")"
   ]
  },
  {
   "cell_type": "code",
   "execution_count": null,
   "id": "88ad4382",
   "metadata": {},
   "outputs": [],
   "source": []
  },
  {
   "cell_type": "code",
   "execution_count": null,
   "id": "b56c935d",
   "metadata": {},
   "outputs": [],
   "source": [
    "# enhancement of the code......!"
   ]
  },
  {
   "cell_type": "code",
   "execution_count": null,
   "id": "0da861ec",
   "metadata": {},
   "outputs": [],
   "source": []
  },
  {
   "cell_type": "code",
   "execution_count": 18,
   "id": "a0b874ba",
   "metadata": {},
   "outputs": [
    {
     "name": "stdout",
     "output_type": "stream",
     "text": [
      "keep up the good work, Kranthi\n",
      "please do send me your practice files of today,Kranthi.\n",
      "\n",
      "keep up the good work, Shreya\n",
      "please do send me your practice files of today,Shreya.\n",
      "\n",
      "keep up the good work, Pooja\n",
      "please do send me your practice files of today,Pooja.\n",
      "\n",
      "keep up the good work, Sajid\n",
      "please do send me your practice files of today,Sajid.\n",
      "\n",
      "keep up the good work, Aliya\n",
      "please do send me your practice files of today,Aliya.\n",
      "\n",
      "keep up the good work, Namitha\n",
      "please do send me your practice files of today,Namitha.\n",
      "\n"
     ]
    }
   ],
   "source": [
    "for x in students:\n",
    "    print(f\"keep up the good work, {x.title()}\")\n",
    "    print(f\"please do send me your practice files of today,{x.title()}.\\n\")"
   ]
  },
  {
   "cell_type": "code",
   "execution_count": 19,
   "id": "5fc5e725",
   "metadata": {},
   "outputs": [
    {
     "name": "stdout",
     "output_type": "stream",
     "text": [
      "keep up the good work, Kranthi\n",
      "please do send me your practice files of today,Kranthi.\n",
      "\n",
      "keep up the good work, Shreya\n",
      "please do send me your practice files of today,Shreya.\n",
      "\n",
      "keep up the good work, Pooja\n",
      "please do send me your practice files of today,Pooja.\n",
      "\n",
      "keep up the good work, Sajid\n",
      "please do send me your practice files of today,Sajid.\n",
      "\n",
      "keep up the good work, Aliya\n",
      "please do send me your practice files of today,Aliya.\n",
      "\n",
      "keep up the good work, Namitha\n",
      "please do send me your practice files of today,Namitha.\n",
      "\n",
      "ThankYou all for showing intrest to learn python\n"
     ]
    }
   ],
   "source": [
    "for x in students:\n",
    "    print(f\"keep up the good work, {x.title()}\")                          \n",
    "    print(f\"please do send me your practice files of today,{x.title()}.\\n\")\n",
    "    \n",
    "print(\"ThankYou all for showing intrest to learn python\")"
   ]
  },
  {
   "cell_type": "code",
   "execution_count": null,
   "id": "68d9d653",
   "metadata": {},
   "outputs": [],
   "source": [
    "# where there in indentation before the print it is ======> in the loop...\n",
    "# where there is no indentation gap then it is ======> out of the loop.."
   ]
  },
  {
   "cell_type": "code",
   "execution_count": null,
   "id": "d9f93a18",
   "metadata": {},
   "outputs": [],
   "source": []
  },
  {
   "cell_type": "code",
   "execution_count": null,
   "id": "746abc9f",
   "metadata": {},
   "outputs": [],
   "source": []
  }
 ],
 "metadata": {
  "kernelspec": {
   "display_name": "Python 3",
   "language": "python",
   "name": "python3"
  },
  "language_info": {
   "codemirror_mode": {
    "name": "ipython",
    "version": 3
   },
   "file_extension": ".py",
   "mimetype": "text/x-python",
   "name": "python",
   "nbconvert_exporter": "python",
   "pygments_lexer": "ipython3",
   "version": "3.8.8"
  }
 },
 "nbformat": 4,
 "nbformat_minor": 5
}
