{
 "cells": [
  {
   "cell_type": "code",
   "execution_count": null,
   "id": "4878a618",
   "metadata": {},
   "outputs": [],
   "source": []
  },
  {
   "cell_type": "code",
   "execution_count": 1,
   "id": "913682c7",
   "metadata": {},
   "outputs": [
    {
     "name": "stdout",
     "output_type": "stream",
     "text": [
      "rajesh robin\n"
     ]
    }
   ],
   "source": [
    "fullname = 'rajesh robin'\n",
    "\n",
    "print(fullname)"
   ]
  },
  {
   "cell_type": "code",
   "execution_count": null,
   "id": "5af0e377",
   "metadata": {},
   "outputs": [],
   "source": [
    "Title method"
   ]
  },
  {
   "cell_type": "code",
   "execution_count": 2,
   "id": "965ff3b9",
   "metadata": {},
   "outputs": [
    {
     "name": "stdout",
     "output_type": "stream",
     "text": [
      "Rajesh Robin\n"
     ]
    }
   ],
   "source": [
    "print(fullname.title())"
   ]
  },
  {
   "cell_type": "code",
   "execution_count": null,
   "id": "663dc408",
   "metadata": {},
   "outputs": [],
   "source": [
    "# req : want to have full name in capitals."
   ]
  },
  {
   "cell_type": "code",
   "execution_count": 3,
   "id": "4badf57a",
   "metadata": {},
   "outputs": [
    {
     "name": "stdout",
     "output_type": "stream",
     "text": [
      "RAJESH ROBIN\n"
     ]
    }
   ],
   "source": [
    "print(fullname.upper())"
   ]
  },
  {
   "cell_type": "code",
   "execution_count": null,
   "id": "794bd5c2",
   "metadata": {},
   "outputs": [],
   "source": []
  },
  {
   "cell_type": "code",
   "execution_count": null,
   "id": "4ba2f052",
   "metadata": {},
   "outputs": [],
   "source": [
    "# req : i want to have the fullname in small case."
   ]
  },
  {
   "cell_type": "code",
   "execution_count": 4,
   "id": "d512c66e",
   "metadata": {},
   "outputs": [
    {
     "name": "stdout",
     "output_type": "stream",
     "text": [
      "rajesh robin\n"
     ]
    }
   ],
   "source": [
    "print(fullname.lower())"
   ]
  },
  {
   "cell_type": "code",
   "execution_count": null,
   "id": "6d543e0d",
   "metadata": {},
   "outputs": [],
   "source": []
  },
  {
   "cell_type": "code",
   "execution_count": 5,
   "id": "2ef0b23c",
   "metadata": {},
   "outputs": [],
   "source": [
    "firstname = 'sachin'\n",
    "\n",
    "lastname = 'jadhav'"
   ]
  },
  {
   "cell_type": "code",
   "execution_count": null,
   "id": "484a11c7",
   "metadata": {},
   "outputs": [],
   "source": [
    "# req : i want to get fullname......?"
   ]
  },
  {
   "cell_type": "code",
   "execution_count": null,
   "id": "c6b9e3cf",
   "metadata": {},
   "outputs": [],
   "source": []
  },
  {
   "cell_type": "code",
   "execution_count": null,
   "id": "13b56a41",
   "metadata": {},
   "outputs": [],
   "source": [
    "introduction to f strings **"
   ]
  },
  {
   "cell_type": "code",
   "execution_count": null,
   "id": "31ad6625",
   "metadata": {},
   "outputs": [],
   "source": [
    "# general syntax of an f strings"
   ]
  },
  {
   "cell_type": "code",
   "execution_count": null,
   "id": "0b634049",
   "metadata": {},
   "outputs": [],
   "source": [
    "f\"custom words, {placeholder1} {placeholder2}........{placeholder....n}\""
   ]
  },
  {
   "cell_type": "code",
   "execution_count": 6,
   "id": "f3c72c7a",
   "metadata": {},
   "outputs": [
    {
     "name": "stdout",
     "output_type": "stream",
     "text": [
      "sachin jadhav\n"
     ]
    }
   ],
   "source": [
    "fullname = f\"{firstname} {lastname}\"\n",
    "\n",
    "print(fullname)"
   ]
  },
  {
   "cell_type": "code",
   "execution_count": 7,
   "id": "f563dd18",
   "metadata": {},
   "outputs": [
    {
     "name": "stdout",
     "output_type": "stream",
     "text": [
      "Sachin Jadhav\n"
     ]
    }
   ],
   "source": [
    "print(fullname.title())"
   ]
  },
  {
   "cell_type": "code",
   "execution_count": null,
   "id": "f8f4fb2b",
   "metadata": {},
   "outputs": [],
   "source": [
    "# req : to appreciate sachin "
   ]
  },
  {
   "cell_type": "code",
   "execution_count": 8,
   "id": "eb005947",
   "metadata": {},
   "outputs": [
    {
     "name": "stdout",
     "output_type": "stream",
     "text": [
      "keep up the good work, Sachin Jadhav\n"
     ]
    }
   ],
   "source": [
    "message = f\"keep up the good work, {fullname.title()}\"\n",
    "\n",
    "print(message)"
   ]
  },
  {
   "cell_type": "code",
   "execution_count": null,
   "id": "bb3a31ec",
   "metadata": {},
   "outputs": [],
   "source": []
  },
  {
   "cell_type": "code",
   "execution_count": null,
   "id": "ca8fd593",
   "metadata": {},
   "outputs": [],
   "source": [
    "Adding whitespaces to strings : "
   ]
  },
  {
   "cell_type": "code",
   "execution_count": null,
   "id": "c39e52d0",
   "metadata": {},
   "outputs": [],
   "source": []
  },
  {
   "cell_type": "code",
   "execution_count": null,
   "id": "ab4ba32e",
   "metadata": {},
   "outputs": [],
   "source": [
    "# req : survey to choose the fav prog lang."
   ]
  },
  {
   "cell_type": "code",
   "execution_count": 9,
   "id": "7954e570",
   "metadata": {},
   "outputs": [
    {
     "name": "stdout",
     "output_type": "stream",
     "text": [
      "favorite_language:pythoncjavac++pascal\n"
     ]
    }
   ],
   "source": [
    "print(\"favorite_language:pythoncjavac++pascal\")"
   ]
  },
  {
   "cell_type": "code",
   "execution_count": 10,
   "id": "f57d7c61",
   "metadata": {},
   "outputs": [
    {
     "name": "stdout",
     "output_type": "stream",
     "text": [
      "favorite_language:\n",
      "python\n",
      "c\n",
      "java\n",
      "c++\n",
      "pascal\n"
     ]
    }
   ],
   "source": [
    "print(\"favorite_language:\\npython\\nc\\njava\\nc++\\npascal\")"
   ]
  },
  {
   "cell_type": "code",
   "execution_count": null,
   "id": "67980a32",
   "metadata": {},
   "outputs": [],
   "source": [
    "\\n -----> it is called as new line delimiter"
   ]
  },
  {
   "cell_type": "code",
   "execution_count": 11,
   "id": "8a83a13f",
   "metadata": {},
   "outputs": [
    {
     "name": "stdout",
     "output_type": "stream",
     "text": [
      "favorite-language:\n",
      "\tpython\n",
      "\tc\n",
      "\tjava\n",
      "\tc++\n",
      "\tpascal\n"
     ]
    }
   ],
   "source": [
    "print(\"favorite-language:\\n\\tpython\\n\\tc\\n\\tjava\\n\\tc++\\n\\tpascal\")"
   ]
  },
  {
   "cell_type": "code",
   "execution_count": null,
   "id": "c77cec00",
   "metadata": {},
   "outputs": [],
   "source": [
    "\\t ------>tab delimiter"
   ]
  },
  {
   "cell_type": "code",
   "execution_count": null,
   "id": "38f1fe23",
   "metadata": {},
   "outputs": [],
   "source": []
  },
  {
   "cell_type": "code",
   "execution_count": null,
   "id": "94a15bc4",
   "metadata": {},
   "outputs": [],
   "source": [
    "removing whitespaces from strings:"
   ]
  },
  {
   "cell_type": "code",
   "execution_count": null,
   "id": "4d651c1d",
   "metadata": {},
   "outputs": [],
   "source": []
  },
  {
   "cell_type": "code",
   "execution_count": 13,
   "id": "221073b6",
   "metadata": {},
   "outputs": [
    {
     "name": "stdout",
     "output_type": "stream",
     "text": [
      "seetharam\n"
     ]
    }
   ],
   "source": [
    "name = 'seetharam'\n",
    "\n",
    "print(name)"
   ]
  },
  {
   "cell_type": "code",
   "execution_count": 14,
   "id": "4a3576c5",
   "metadata": {},
   "outputs": [
    {
     "name": "stdout",
     "output_type": "stream",
     "text": [
      "      seetharam\n"
     ]
    }
   ],
   "source": [
    "name1 = '      seetharam'     #left side/space\n",
    "\n",
    "print(name1)"
   ]
  },
  {
   "cell_type": "code",
   "execution_count": 15,
   "id": "f804104a",
   "metadata": {},
   "outputs": [
    {
     "name": "stdout",
     "output_type": "stream",
     "text": [
      "seetharam     \n"
     ]
    }
   ],
   "source": [
    "name2 = 'seetharam     '       #right side gap/space\n",
    "\n",
    "print(name2)"
   ]
  },
  {
   "cell_type": "code",
   "execution_count": null,
   "id": "c94ba553",
   "metadata": {},
   "outputs": [],
   "source": []
  },
  {
   "cell_type": "code",
   "execution_count": 16,
   "id": "2c42064e",
   "metadata": {},
   "outputs": [
    {
     "name": "stdout",
     "output_type": "stream",
     "text": [
      "seetharam\n"
     ]
    }
   ],
   "source": [
    "print(name1.lstrip())      # only checks the space in the left side."
   ]
  },
  {
   "cell_type": "code",
   "execution_count": 17,
   "id": "73f5e3f6",
   "metadata": {},
   "outputs": [
    {
     "name": "stdout",
     "output_type": "stream",
     "text": [
      "seetharam\n"
     ]
    }
   ],
   "source": [
    "print(name2.rstrip())      # only checks the space in the right side."
   ]
  },
  {
   "cell_type": "code",
   "execution_count": 18,
   "id": "cc36379c",
   "metadata": {},
   "outputs": [
    {
     "name": "stdout",
     "output_type": "stream",
     "text": [
      "   naveen   \n"
     ]
    }
   ],
   "source": [
    "name3 = '   naveen   '\n",
    "\n",
    "print(name3)"
   ]
  },
  {
   "cell_type": "code",
   "execution_count": 20,
   "id": "c59d15b0",
   "metadata": {},
   "outputs": [
    {
     "name": "stdout",
     "output_type": "stream",
     "text": [
      "naveen\n"
     ]
    }
   ],
   "source": [
    "print(name3.strip())       # checks the space on both the sides and elimate the gap....."
   ]
  },
  {
   "cell_type": "code",
   "execution_count": null,
   "id": "d2719a22",
   "metadata": {},
   "outputs": [],
   "source": []
  }
 ],
 "metadata": {
  "kernelspec": {
   "display_name": "Python 3",
   "language": "python",
   "name": "python3"
  },
  "language_info": {
   "codemirror_mode": {
    "name": "ipython",
    "version": 3
   },
   "file_extension": ".py",
   "mimetype": "text/x-python",
   "name": "python",
   "nbconvert_exporter": "python",
   "pygments_lexer": "ipython3",
   "version": "3.8.8"
  }
 },
 "nbformat": 4,
 "nbformat_minor": 5
}
