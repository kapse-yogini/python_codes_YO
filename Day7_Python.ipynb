{
 "cells": [
  {
   "cell_type": "code",
   "execution_count": null,
   "id": "761d65ed",
   "metadata": {},
   "outputs": [],
   "source": [
    "introduction to conditional statements:"
   ]
  },
  {
   "cell_type": "code",
   "execution_count": null,
   "id": "d816cc89",
   "metadata": {},
   "outputs": [],
   "source": [
    "By occurance of certain conditions the output will be decided."
   ]
  },
  {
   "cell_type": "code",
   "execution_count": null,
   "id": "50bdd9f3",
   "metadata": {},
   "outputs": [],
   "source": []
  },
  {
   "cell_type": "code",
   "execution_count": 1,
   "id": "ab56e66c",
   "metadata": {},
   "outputs": [],
   "source": [
    "cars = ['maruthi','kia','bmw','audi','benz']"
   ]
  },
  {
   "cell_type": "code",
   "execution_count": 2,
   "id": "927639cf",
   "metadata": {},
   "outputs": [
    {
     "name": "stdout",
     "output_type": "stream",
     "text": [
      "['maruthi', 'kia', 'bmw', 'audi', 'benz']\n"
     ]
    }
   ],
   "source": [
    "print(cars)"
   ]
  },
  {
   "cell_type": "code",
   "execution_count": null,
   "id": "a3e3edd3",
   "metadata": {},
   "outputs": [],
   "source": []
  },
  {
   "cell_type": "code",
   "execution_count": null,
   "id": "b674ad90",
   "metadata": {},
   "outputs": [],
   "source": [
    "# req : i want to print all the cars , except it i want bmw in capital...how to do ?"
   ]
  },
  {
   "cell_type": "code",
   "execution_count": null,
   "id": "c4035d7d",
   "metadata": {},
   "outputs": [],
   "source": []
  },
  {
   "cell_type": "code",
   "execution_count": null,
   "id": "4f8e0d82",
   "metadata": {},
   "outputs": [],
   "source": [
    "for tempvar in mainvar:\n",
    "    print(tempvar)"
   ]
  },
  {
   "cell_type": "code",
   "execution_count": 3,
   "id": "912dd021",
   "metadata": {},
   "outputs": [
    {
     "name": "stdout",
     "output_type": "stream",
     "text": [
      "Maruthi\n",
      "Kia\n",
      "BMW\n",
      "Audi\n",
      "Benz\n"
     ]
    }
   ],
   "source": [
    "for x in cars:\n",
    "    if x == 'bmw':\n",
    "        print(x.upper())\n",
    "    else:\n",
    "        print(x.title())"
   ]
  },
  {
   "cell_type": "code",
   "execution_count": null,
   "id": "46023666",
   "metadata": {},
   "outputs": [],
   "source": []
  },
  {
   "cell_type": "code",
   "execution_count": null,
   "id": "f9a5740e",
   "metadata": {},
   "outputs": [],
   "source": [
    "accpting the user input:"
   ]
  },
  {
   "cell_type": "code",
   "execution_count": null,
   "id": "e1018bf9",
   "metadata": {},
   "outputs": [],
   "source": [
    "input -----> is the keyboard that we will be using."
   ]
  },
  {
   "cell_type": "code",
   "execution_count": null,
   "id": "08c08fc9",
   "metadata": {},
   "outputs": [],
   "source": []
  },
  {
   "cell_type": "code",
   "execution_count": 4,
   "id": "c809ba87",
   "metadata": {},
   "outputs": [
    {
     "name": "stdout",
     "output_type": "stream",
     "text": [
      "Tell me something and i will repeat it back for youhello how are you\n",
      "hello how are you\n"
     ]
    }
   ],
   "source": [
    "message = input(\"Tell me something and i will repeat it back for you\")\n",
    "\n",
    "print(message)"
   ]
  },
  {
   "cell_type": "code",
   "execution_count": null,
   "id": "788d1d7d",
   "metadata": {},
   "outputs": [],
   "source": [
    "# req : greeting the user."
   ]
  },
  {
   "cell_type": "code",
   "execution_count": 8,
   "id": "f8670aca",
   "metadata": {},
   "outputs": [
    {
     "name": "stdout",
     "output_type": "stream",
     "text": [
      "please enter your fullname :yogini kapse\n",
      "Hello welcome to amazon website, yogini kapse\n"
     ]
    }
   ],
   "source": [
    "prompt = input(\"please enter your fullname :\")\n",
    "\n",
    "print(f\"Hello welcome to amazon website, {prompt}\")"
   ]
  },
  {
   "cell_type": "code",
   "execution_count": null,
   "id": "b1e1a1ce",
   "metadata": {},
   "outputs": [],
   "source": []
  },
  {
   "cell_type": "code",
   "execution_count": null,
   "id": "dc8dab91",
   "metadata": {},
   "outputs": [],
   "source": [
    "Note : by default input methods take the takes as a string data type "
   ]
  },
  {
   "cell_type": "code",
   "execution_count": null,
   "id": "f8dddb45",
   "metadata": {},
   "outputs": [],
   "source": []
  },
  {
   "cell_type": "code",
   "execution_count": 9,
   "id": "17b68ad1",
   "metadata": {},
   "outputs": [
    {
     "name": "stdout",
     "output_type": "stream",
     "text": [
      "please enter your age18\n",
      "18\n"
     ]
    }
   ],
   "source": [
    "age = input(\"please enter your age\")\n",
    "\n",
    "print(age)"
   ]
  },
  {
   "cell_type": "code",
   "execution_count": null,
   "id": "87afd4ca",
   "metadata": {},
   "outputs": [],
   "source": []
  },
  {
   "cell_type": "code",
   "execution_count": null,
   "id": "28220164",
   "metadata": {},
   "outputs": [],
   "source": [
    "# req : to validate the age."
   ]
  },
  {
   "cell_type": "code",
   "execution_count": 10,
   "id": "fda35dfc",
   "metadata": {},
   "outputs": [
    {
     "ename": "TypeError",
     "evalue": "'>' not supported between instances of 'str' and 'int'",
     "output_type": "error",
     "traceback": [
      "\u001b[1;31m---------------------------------------------------------------------------\u001b[0m",
      "\u001b[1;31mTypeError\u001b[0m                                 Traceback (most recent call last)",
      "\u001b[1;32m<ipython-input-10-f249b2a2421b>\u001b[0m in \u001b[0;36m<module>\u001b[1;34m\u001b[0m\n\u001b[1;32m----> 1\u001b[1;33m \u001b[0mage\u001b[0m \u001b[1;33m>\u001b[0m \u001b[1;36m18\u001b[0m\u001b[1;33m\u001b[0m\u001b[1;33m\u001b[0m\u001b[0m\n\u001b[0m",
      "\u001b[1;31mTypeError\u001b[0m: '>' not supported between instances of 'str' and 'int'"
     ]
    }
   ],
   "source": [
    "age > 18"
   ]
  },
  {
   "cell_type": "code",
   "execution_count": 11,
   "id": "0fa741c3",
   "metadata": {},
   "outputs": [
    {
     "data": {
      "text/plain": [
       "str"
      ]
     },
     "execution_count": 11,
     "metadata": {},
     "output_type": "execute_result"
    }
   ],
   "source": [
    "type(age)"
   ]
  },
  {
   "cell_type": "code",
   "execution_count": null,
   "id": "003c3c69",
   "metadata": {},
   "outputs": [],
   "source": []
  },
  {
   "cell_type": "code",
   "execution_count": null,
   "id": "3ada515c",
   "metadata": {},
   "outputs": [],
   "source": [
    "typecasting of the datatypes:\n",
    "\n",
    "Converting the data from one type to another type:"
   ]
  },
  {
   "cell_type": "code",
   "execution_count": 12,
   "id": "239eb455",
   "metadata": {},
   "outputs": [
    {
     "name": "stdout",
     "output_type": "stream",
     "text": [
      "please enter your age18\n"
     ]
    }
   ],
   "source": [
    "age = input(\"please enter your age\")\n",
    "age = int(age)"
   ]
  },
  {
   "cell_type": "code",
   "execution_count": 13,
   "id": "e7dcc00d",
   "metadata": {},
   "outputs": [
    {
     "data": {
      "text/plain": [
       "False"
      ]
     },
     "execution_count": 13,
     "metadata": {},
     "output_type": "execute_result"
    }
   ],
   "source": [
    "age > 18 "
   ]
  },
  {
   "cell_type": "code",
   "execution_count": 14,
   "id": "b9e37864",
   "metadata": {},
   "outputs": [
    {
     "name": "stdout",
     "output_type": "stream",
     "text": [
      "please enter your age20\n"
     ]
    }
   ],
   "source": [
    "age = input(\"please enter your age\")\n",
    "age = int(age)"
   ]
  },
  {
   "cell_type": "code",
   "execution_count": 15,
   "id": "027bcfe4",
   "metadata": {},
   "outputs": [
    {
     "data": {
      "text/plain": [
       "True"
      ]
     },
     "execution_count": 15,
     "metadata": {},
     "output_type": "execute_result"
    }
   ],
   "source": [
    "age > 18"
   ]
  },
  {
   "cell_type": "code",
   "execution_count": 16,
   "id": "101d8dc8",
   "metadata": {},
   "outputs": [
    {
     "data": {
      "text/plain": [
       "int"
      ]
     },
     "execution_count": 16,
     "metadata": {},
     "output_type": "execute_result"
    }
   ],
   "source": [
    "type(age)"
   ]
  },
  {
   "cell_type": "code",
   "execution_count": null,
   "id": "deccf926",
   "metadata": {},
   "outputs": [],
   "source": []
  },
  {
   "cell_type": "code",
   "execution_count": null,
   "id": "2af01253",
   "metadata": {},
   "outputs": [],
   "source": [
    "# Building a simple voting application:"
   ]
  },
  {
   "cell_type": "code",
   "execution_count": null,
   "id": "d9bcc421",
   "metadata": {},
   "outputs": [],
   "source": []
  },
  {
   "cell_type": "code",
   "execution_count": 17,
   "id": "111d5549",
   "metadata": {},
   "outputs": [
    {
     "name": "stdout",
     "output_type": "stream",
     "text": [
      "pls enter your age: 17\n",
      "you are not eligible to vote\n"
     ]
    }
   ],
   "source": [
    "age = input(\"pls enter your age: \")\n",
    "age = int(age)\n",
    "\n",
    "if age >= 18:\n",
    "    print(\"you are eligible to vote\")\n",
    "else:\n",
    "    print(\"you are not eligible to vote\")"
   ]
  },
  {
   "cell_type": "code",
   "execution_count": 18,
   "id": "71eefdc9",
   "metadata": {},
   "outputs": [
    {
     "name": "stdout",
     "output_type": "stream",
     "text": [
      "pls enter your age: 18\n",
      "you are eligible to vote\n"
     ]
    }
   ],
   "source": [
    "age = input(\"pls enter your age: \")\n",
    "age = int(age)\n",
    "\n",
    "if age >= 18:\n",
    "    print(\"you are eligible to vote\")\n",
    "else:\n",
    "    print(\"you are not eligible to vote\")"
   ]
  },
  {
   "cell_type": "code",
   "execution_count": 19,
   "id": "8e8372e7",
   "metadata": {},
   "outputs": [
    {
     "name": "stdout",
     "output_type": "stream",
     "text": [
      "pls enter your age: 20\n",
      "you are eligible to vote\n"
     ]
    }
   ],
   "source": [
    "age = input(\"pls enter your age: \")\n",
    "age = int(age)\n",
    "\n",
    "if age >= 18:\n",
    "    print(\"you are eligible to vote\")\n",
    "else:\n",
    "    print(\"you are not eligible to vote\")"
   ]
  },
  {
   "cell_type": "code",
   "execution_count": null,
   "id": "bcedf658",
   "metadata": {},
   "outputs": [],
   "source": []
  }
 ],
 "metadata": {
  "kernelspec": {
   "display_name": "Python 3",
   "language": "python",
   "name": "python3"
  },
  "language_info": {
   "codemirror_mode": {
    "name": "ipython",
    "version": 3
   },
   "file_extension": ".py",
   "mimetype": "text/x-python",
   "name": "python",
   "nbconvert_exporter": "python",
   "pygments_lexer": "ipython3",
   "version": "3.8.8"
  }
 },
 "nbformat": 4,
 "nbformat_minor": 5
}
