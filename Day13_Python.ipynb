{
 "cells": [
  {
   "cell_type": "code",
   "execution_count": null,
   "id": "ff5d0c98",
   "metadata": {},
   "outputs": [],
   "source": [
    "File handeling in python:"
   ]
  },
  {
   "cell_type": "code",
   "execution_count": null,
   "id": "70b2178d",
   "metadata": {},
   "outputs": [],
   "source": []
  },
  {
   "cell_type": "code",
   "execution_count": null,
   "id": "59f8ddf1",
   "metadata": {},
   "outputs": [],
   "source": [
    "1. how to load the data ====> completed.\n",
    "\n",
    "2. how to read the data ====?\n",
    "\n",
    "3. how to write the data \n",
    "\n",
    "4. how to append the data "
   ]
  },
  {
   "cell_type": "code",
   "execution_count": null,
   "id": "2710e1c4",
   "metadata": {},
   "outputs": [],
   "source": []
  },
  {
   "cell_type": "code",
   "execution_count": 2,
   "id": "fabf35f6",
   "metadata": {},
   "outputs": [
    {
     "name": "stdout",
     "output_type": "stream",
     "text": [
      "123\n",
      "456\n",
      "789\n"
     ]
    }
   ],
   "source": [
    "with open('numbers_python.txt') as file_object:\n",
    "    contents = file_object.read()\n",
    "print(contents)    "
   ]
  },
  {
   "cell_type": "code",
   "execution_count": null,
   "id": "b60da170",
   "metadata": {},
   "outputs": [],
   "source": []
  },
  {
   "cell_type": "code",
   "execution_count": 3,
   "id": "248df057",
   "metadata": {},
   "outputs": [],
   "source": [
    "file = 'numbers_python.txt'"
   ]
  },
  {
   "cell_type": "code",
   "execution_count": 4,
   "id": "b648f67d",
   "metadata": {},
   "outputs": [
    {
     "name": "stdout",
     "output_type": "stream",
     "text": [
      "123\n",
      "456\n",
      "789\n"
     ]
    }
   ],
   "source": [
    "with open(file) as a:\n",
    "    con = a.read()\n",
    "print(con)"
   ]
  },
  {
   "cell_type": "code",
   "execution_count": null,
   "id": "009758a8",
   "metadata": {},
   "outputs": [],
   "source": []
  },
  {
   "cell_type": "code",
   "execution_count": 5,
   "id": "b01fb312",
   "metadata": {},
   "outputs": [],
   "source": [
    "with open(file,'w') as f:\n",
    "    f.write(\"Python is the most demanding prog language in the world\")"
   ]
  },
  {
   "cell_type": "code",
   "execution_count": null,
   "id": "9a4e6654",
   "metadata": {},
   "outputs": [],
   "source": []
  },
  {
   "cell_type": "code",
   "execution_count": 7,
   "id": "b469ea7b",
   "metadata": {},
   "outputs": [
    {
     "name": "stdout",
     "output_type": "stream",
     "text": [
      "Python is the most demanding prog language in the world\n"
     ]
    }
   ],
   "source": [
    "with open(file) as a:\n",
    "    con = a.read()\n",
    "print(con)    "
   ]
  },
  {
   "cell_type": "code",
   "execution_count": null,
   "id": "5b6d79a6",
   "metadata": {},
   "outputs": [],
   "source": []
  },
  {
   "cell_type": "code",
   "execution_count": 8,
   "id": "e93a172c",
   "metadata": {},
   "outputs": [],
   "source": [
    "with open(file,'a') as f:\n",
    "    f.write(\"\\npython is having simple syntaxes\")"
   ]
  },
  {
   "cell_type": "code",
   "execution_count": 9,
   "id": "47cdd318",
   "metadata": {},
   "outputs": [
    {
     "name": "stdout",
     "output_type": "stream",
     "text": [
      "Python is the most demanding prog language in the world\n",
      "python is having simple syntaxes\n"
     ]
    }
   ],
   "source": [
    "with open(file) as a:\n",
    "    con = a.read()\n",
    "print(con)"
   ]
  },
  {
   "cell_type": "code",
   "execution_count": null,
   "id": "f6166b7f",
   "metadata": {},
   "outputs": [],
   "source": []
  }
 ],
 "metadata": {
  "kernelspec": {
   "display_name": "Python 3",
   "language": "python",
   "name": "python3"
  },
  "language_info": {
   "codemirror_mode": {
    "name": "ipython",
    "version": 3
   },
   "file_extension": ".py",
   "mimetype": "text/x-python",
   "name": "python",
   "nbconvert_exporter": "python",
   "pygments_lexer": "ipython3",
   "version": "3.8.8"
  }
 },
 "nbformat": 4,
 "nbformat_minor": 5
}
